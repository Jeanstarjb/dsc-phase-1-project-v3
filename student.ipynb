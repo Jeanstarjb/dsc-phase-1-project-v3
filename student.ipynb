{
 "cells": [
  {
   "cell_type": "markdown",
   "metadata": {},
   "source": [
    "## Final Project Submission\n",
    "\n",
    "Please fill out:\n",
    "* Student name: \n",
    "* Student pace: self paced / part time / full time\n",
    "* Scheduled project review date/time: \n",
    "* Instructor name: \n",
    "* Blog post URL:"
   ]
  },
  {
   "cell_type": "markdown",
   "metadata": {},
   "source": [
    "## 1.Business Understanding\n",
    "\n",
    "### Business Problem:\n",
    "\n",
    "#### The company is looking to diversify by entering the commercial and private aviation industry. However, we lack knowledge about the risks associated with different aircraft\n",
    "\n",
    "### Goal:\n",
    "\n",
    "#### Our goal is to analyze historical aviation accident data to identify which aircraft are the lowest risk.And also give recommendations or guidance to their initial aircraft purchasing decisions."
   ]
  },
  {
   "cell_type": "code",
   "execution_count": 1,
   "metadata": {},
   "outputs": [],
   "source": [
    "#Importing necessary libraries\n",
    "import pandas as pd\n",
    "import numpy as np\n",
    "import matplotlib.pyplot as plt\n",
    "import seaborn as sns"
   ]
  },
  {
   "cell_type": "markdown",
   "metadata": {},
   "source": [
    "## 2. Data Understanding"
   ]
  },
  {
   "cell_type": "code",
   "execution_count": 2,
   "metadata": {},
   "outputs": [
    {
     "name": "stdout",
     "output_type": "stream",
     "text": [
      "Loading the dataset to begin our analysis.....\n",
      "\n",
      "....Dataset loaded successfully......\n"
     ]
    }
   ],
   "source": [
    "print(\"Loading the dataset to begin our analysis.....\")\n",
    "\n",
    "df = pd.read_csv('AviationData.csv',encoding='latin-1', low_memory=False)\n",
    "print()\n",
    "print(\"....Dataset loaded successfully......\")"
   ]
  },
  {
   "cell_type": "code",
   "execution_count": 3,
   "metadata": {},
   "outputs": [
    {
     "name": "stdout",
     "output_type": "stream",
     "text": [
      "First 5 Rows of the dataset:\n"
     ]
    },
    {
     "data": {
      "text/html": [
       "<div>\n",
       "<style scoped>\n",
       "    .dataframe tbody tr th:only-of-type {\n",
       "        vertical-align: middle;\n",
       "    }\n",
       "\n",
       "    .dataframe tbody tr th {\n",
       "        vertical-align: top;\n",
       "    }\n",
       "\n",
       "    .dataframe thead th {\n",
       "        text-align: right;\n",
       "    }\n",
       "</style>\n",
       "<table border=\"1\" class=\"dataframe\">\n",
       "  <thead>\n",
       "    <tr style=\"text-align: right;\">\n",
       "      <th></th>\n",
       "      <th>Event.Id</th>\n",
       "      <th>Investigation.Type</th>\n",
       "      <th>Accident.Number</th>\n",
       "      <th>Event.Date</th>\n",
       "      <th>Location</th>\n",
       "      <th>Country</th>\n",
       "      <th>Latitude</th>\n",
       "      <th>Longitude</th>\n",
       "      <th>Airport.Code</th>\n",
       "      <th>Airport.Name</th>\n",
       "      <th>...</th>\n",
       "      <th>Purpose.of.flight</th>\n",
       "      <th>Air.carrier</th>\n",
       "      <th>Total.Fatal.Injuries</th>\n",
       "      <th>Total.Serious.Injuries</th>\n",
       "      <th>Total.Minor.Injuries</th>\n",
       "      <th>Total.Uninjured</th>\n",
       "      <th>Weather.Condition</th>\n",
       "      <th>Broad.phase.of.flight</th>\n",
       "      <th>Report.Status</th>\n",
       "      <th>Publication.Date</th>\n",
       "    </tr>\n",
       "  </thead>\n",
       "  <tbody>\n",
       "    <tr>\n",
       "      <th>0</th>\n",
       "      <td>20001218X45444</td>\n",
       "      <td>Accident</td>\n",
       "      <td>SEA87LA080</td>\n",
       "      <td>1948-10-24</td>\n",
       "      <td>MOOSE CREEK, ID</td>\n",
       "      <td>United States</td>\n",
       "      <td>NaN</td>\n",
       "      <td>NaN</td>\n",
       "      <td>NaN</td>\n",
       "      <td>NaN</td>\n",
       "      <td>...</td>\n",
       "      <td>Personal</td>\n",
       "      <td>NaN</td>\n",
       "      <td>2.0</td>\n",
       "      <td>0.0</td>\n",
       "      <td>0.0</td>\n",
       "      <td>0.0</td>\n",
       "      <td>UNK</td>\n",
       "      <td>Cruise</td>\n",
       "      <td>Probable Cause</td>\n",
       "      <td>NaN</td>\n",
       "    </tr>\n",
       "    <tr>\n",
       "      <th>1</th>\n",
       "      <td>20001218X45447</td>\n",
       "      <td>Accident</td>\n",
       "      <td>LAX94LA336</td>\n",
       "      <td>1962-07-19</td>\n",
       "      <td>BRIDGEPORT, CA</td>\n",
       "      <td>United States</td>\n",
       "      <td>NaN</td>\n",
       "      <td>NaN</td>\n",
       "      <td>NaN</td>\n",
       "      <td>NaN</td>\n",
       "      <td>...</td>\n",
       "      <td>Personal</td>\n",
       "      <td>NaN</td>\n",
       "      <td>4.0</td>\n",
       "      <td>0.0</td>\n",
       "      <td>0.0</td>\n",
       "      <td>0.0</td>\n",
       "      <td>UNK</td>\n",
       "      <td>Unknown</td>\n",
       "      <td>Probable Cause</td>\n",
       "      <td>19-09-1996</td>\n",
       "    </tr>\n",
       "    <tr>\n",
       "      <th>2</th>\n",
       "      <td>20061025X01555</td>\n",
       "      <td>Accident</td>\n",
       "      <td>NYC07LA005</td>\n",
       "      <td>1974-08-30</td>\n",
       "      <td>Saltville, VA</td>\n",
       "      <td>United States</td>\n",
       "      <td>36.922223</td>\n",
       "      <td>-81.878056</td>\n",
       "      <td>NaN</td>\n",
       "      <td>NaN</td>\n",
       "      <td>...</td>\n",
       "      <td>Personal</td>\n",
       "      <td>NaN</td>\n",
       "      <td>3.0</td>\n",
       "      <td>NaN</td>\n",
       "      <td>NaN</td>\n",
       "      <td>NaN</td>\n",
       "      <td>IMC</td>\n",
       "      <td>Cruise</td>\n",
       "      <td>Probable Cause</td>\n",
       "      <td>26-02-2007</td>\n",
       "    </tr>\n",
       "    <tr>\n",
       "      <th>3</th>\n",
       "      <td>20001218X45448</td>\n",
       "      <td>Accident</td>\n",
       "      <td>LAX96LA321</td>\n",
       "      <td>1977-06-19</td>\n",
       "      <td>EUREKA, CA</td>\n",
       "      <td>United States</td>\n",
       "      <td>NaN</td>\n",
       "      <td>NaN</td>\n",
       "      <td>NaN</td>\n",
       "      <td>NaN</td>\n",
       "      <td>...</td>\n",
       "      <td>Personal</td>\n",
       "      <td>NaN</td>\n",
       "      <td>2.0</td>\n",
       "      <td>0.0</td>\n",
       "      <td>0.0</td>\n",
       "      <td>0.0</td>\n",
       "      <td>IMC</td>\n",
       "      <td>Cruise</td>\n",
       "      <td>Probable Cause</td>\n",
       "      <td>12-09-2000</td>\n",
       "    </tr>\n",
       "    <tr>\n",
       "      <th>4</th>\n",
       "      <td>20041105X01764</td>\n",
       "      <td>Accident</td>\n",
       "      <td>CHI79FA064</td>\n",
       "      <td>1979-08-02</td>\n",
       "      <td>Canton, OH</td>\n",
       "      <td>United States</td>\n",
       "      <td>NaN</td>\n",
       "      <td>NaN</td>\n",
       "      <td>NaN</td>\n",
       "      <td>NaN</td>\n",
       "      <td>...</td>\n",
       "      <td>Personal</td>\n",
       "      <td>NaN</td>\n",
       "      <td>1.0</td>\n",
       "      <td>2.0</td>\n",
       "      <td>NaN</td>\n",
       "      <td>0.0</td>\n",
       "      <td>VMC</td>\n",
       "      <td>Approach</td>\n",
       "      <td>Probable Cause</td>\n",
       "      <td>16-04-1980</td>\n",
       "    </tr>\n",
       "  </tbody>\n",
       "</table>\n",
       "<p>5 rows × 31 columns</p>\n",
       "</div>"
      ],
      "text/plain": [
       "         Event.Id Investigation.Type Accident.Number  Event.Date  \\\n",
       "0  20001218X45444           Accident      SEA87LA080  1948-10-24   \n",
       "1  20001218X45447           Accident      LAX94LA336  1962-07-19   \n",
       "2  20061025X01555           Accident      NYC07LA005  1974-08-30   \n",
       "3  20001218X45448           Accident      LAX96LA321  1977-06-19   \n",
       "4  20041105X01764           Accident      CHI79FA064  1979-08-02   \n",
       "\n",
       "          Location        Country   Latitude   Longitude Airport.Code  \\\n",
       "0  MOOSE CREEK, ID  United States        NaN         NaN          NaN   \n",
       "1   BRIDGEPORT, CA  United States        NaN         NaN          NaN   \n",
       "2    Saltville, VA  United States  36.922223  -81.878056          NaN   \n",
       "3       EUREKA, CA  United States        NaN         NaN          NaN   \n",
       "4       Canton, OH  United States        NaN         NaN          NaN   \n",
       "\n",
       "  Airport.Name  ... Purpose.of.flight Air.carrier Total.Fatal.Injuries  \\\n",
       "0          NaN  ...          Personal         NaN                  2.0   \n",
       "1          NaN  ...          Personal         NaN                  4.0   \n",
       "2          NaN  ...          Personal         NaN                  3.0   \n",
       "3          NaN  ...          Personal         NaN                  2.0   \n",
       "4          NaN  ...          Personal         NaN                  1.0   \n",
       "\n",
       "  Total.Serious.Injuries Total.Minor.Injuries Total.Uninjured  \\\n",
       "0                    0.0                  0.0             0.0   \n",
       "1                    0.0                  0.0             0.0   \n",
       "2                    NaN                  NaN             NaN   \n",
       "3                    0.0                  0.0             0.0   \n",
       "4                    2.0                  NaN             0.0   \n",
       "\n",
       "  Weather.Condition  Broad.phase.of.flight   Report.Status Publication.Date  \n",
       "0               UNK                 Cruise  Probable Cause              NaN  \n",
       "1               UNK                Unknown  Probable Cause       19-09-1996  \n",
       "2               IMC                 Cruise  Probable Cause       26-02-2007  \n",
       "3               IMC                 Cruise  Probable Cause       12-09-2000  \n",
       "4               VMC               Approach  Probable Cause       16-04-1980  \n",
       "\n",
       "[5 rows x 31 columns]"
      ]
     },
     "execution_count": 3,
     "metadata": {},
     "output_type": "execute_result"
    }
   ],
   "source": [
    "print(\"First 5 Rows of the dataset:\")\n",
    "df.head()"
   ]
  },
  {
   "cell_type": "code",
   "execution_count": 4,
   "metadata": {},
   "outputs": [
    {
     "name": "stdout",
     "output_type": "stream",
     "text": [
      "Dataset Information: (Columns, Data Types, Non-Null Counts)\n",
      "\n",
      "<class 'pandas.core.frame.DataFrame'>\n",
      "RangeIndex: 88889 entries, 0 to 88888\n",
      "Data columns (total 31 columns):\n",
      " #   Column                  Non-Null Count  Dtype  \n",
      "---  ------                  --------------  -----  \n",
      " 0   Event.Id                88889 non-null  object \n",
      " 1   Investigation.Type      88889 non-null  object \n",
      " 2   Accident.Number         88889 non-null  object \n",
      " 3   Event.Date              88889 non-null  object \n",
      " 4   Location                88837 non-null  object \n",
      " 5   Country                 88663 non-null  object \n",
      " 6   Latitude                34382 non-null  object \n",
      " 7   Longitude               34373 non-null  object \n",
      " 8   Airport.Code            50249 non-null  object \n",
      " 9   Airport.Name            52790 non-null  object \n",
      " 10  Injury.Severity         87889 non-null  object \n",
      " 11  Aircraft.damage         85695 non-null  object \n",
      " 12  Aircraft.Category       32287 non-null  object \n",
      " 13  Registration.Number     87572 non-null  object \n",
      " 14  Make                    88826 non-null  object \n",
      " 15  Model                   88797 non-null  object \n",
      " 16  Amateur.Built           88787 non-null  object \n",
      " 17  Number.of.Engines       82805 non-null  float64\n",
      " 18  Engine.Type             81812 non-null  object \n",
      " 19  FAR.Description         32023 non-null  object \n",
      " 20  Schedule                12582 non-null  object \n",
      " 21  Purpose.of.flight       82697 non-null  object \n",
      " 22  Air.carrier             16648 non-null  object \n",
      " 23  Total.Fatal.Injuries    77488 non-null  float64\n",
      " 24  Total.Serious.Injuries  76379 non-null  float64\n",
      " 25  Total.Minor.Injuries    76956 non-null  float64\n",
      " 26  Total.Uninjured         82977 non-null  float64\n",
      " 27  Weather.Condition       84397 non-null  object \n",
      " 28  Broad.phase.of.flight   61724 non-null  object \n",
      " 29  Report.Status           82508 non-null  object \n",
      " 30  Publication.Date        75118 non-null  object \n",
      "dtypes: float64(5), object(26)\n",
      "memory usage: 21.0+ MB\n"
     ]
    }
   ],
   "source": [
    "print(\"Dataset Information: (Columns, Data Types, Non-Null Counts)\")\n",
    "print()\n",
    "df.info()"
   ]
  },
  {
   "cell_type": "code",
   "execution_count": 5,
   "metadata": {},
   "outputs": [
    {
     "name": "stdout",
     "output_type": "stream",
     "text": [
      "The dataset has 88889 rows and 31 columns as clearly seen above\n"
     ]
    }
   ],
   "source": [
    "print(f\"The dataset has {df.shape[0]} rows and {df.shape[1]} columns as clearly seen above\")"
   ]
  },
  {
   "cell_type": "code",
   "execution_count": 6,
   "metadata": {},
   "outputs": [
    {
     "name": "stdout",
     "output_type": "stream",
     "text": [
      "The columns names associated with the aviation dataset are: \n",
      "Index(['Event.Id', 'Investigation.Type', 'Accident.Number', 'Event.Date',\n",
      "       'Location', 'Country', 'Latitude', 'Longitude', 'Airport.Code',\n",
      "       'Airport.Name', 'Injury.Severity', 'Aircraft.damage',\n",
      "       'Aircraft.Category', 'Registration.Number', 'Make', 'Model',\n",
      "       'Amateur.Built', 'Number.of.Engines', 'Engine.Type', 'FAR.Description',\n",
      "       'Schedule', 'Purpose.of.flight', 'Air.carrier', 'Total.Fatal.Injuries',\n",
      "       'Total.Serious.Injuries', 'Total.Minor.Injuries', 'Total.Uninjured',\n",
      "       'Weather.Condition', 'Broad.phase.of.flight', 'Report.Status',\n",
      "       'Publication.Date'],\n",
      "      dtype='object')\n"
     ]
    }
   ],
   "source": [
    "print(f\"The columns names associated with the aviation dataset are: \\n{df.columns}\")"
   ]
  },
  {
   "cell_type": "code",
   "execution_count": 7,
   "metadata": {},
   "outputs": [
    {
     "name": "stdout",
     "output_type": "stream",
     "text": [
      "Below we are be able to see what each column misses in terms of values and percentage: \n",
      "                        Missing Values  Percentage\n",
      "Schedule                         76307   85.845268\n",
      "Air.carrier                      72241   81.271023\n",
      "FAR.Description                  56866   63.974170\n",
      "Aircraft.Category                56602   63.677170\n",
      "Longitude                        54516   61.330423\n",
      "Latitude                         54507   61.320298\n",
      "Airport.Code                     38640   43.469946\n",
      "Airport.Name                     36099   40.611324\n",
      "Broad.phase.of.flight            27165   30.560587\n",
      "Publication.Date                 13771   15.492356\n",
      "Total.Serious.Injuries           12510   14.073732\n",
      "Total.Minor.Injuries             11933   13.424608\n",
      "Total.Fatal.Injuries             11401   12.826109\n",
      "Engine.Type                       7077    7.961615\n",
      "Report.Status                     6381    7.178616\n",
      "Purpose.of.flight                 6192    6.965991\n",
      "Number.of.Engines                 6084    6.844491\n",
      "Total.Uninjured                   5912    6.650992\n",
      "Weather.Condition                 4492    5.053494\n",
      "Aircraft.damage                   3194    3.593246\n",
      "Registration.Number               1317    1.481623\n",
      "Injury.Severity                   1000    1.124999\n",
      "Country                            226    0.254250\n",
      "Amateur.Built                      102    0.114750\n",
      "Model                               92    0.103500\n",
      "Make                                63    0.070875\n",
      "Location                            52    0.058500\n"
     ]
    }
   ],
   "source": [
    "#Now let's see how much data is missing\n",
    "missing_values = df.isnull().sum()\n",
    "missing_percentage = (df.isnull().sum() / len(df)) * 100\n",
    "#Decided to create a dataframe that sorts the columns according to the number of values missing\n",
    "#and their percentage\n",
    "missing_df = pd.DataFrame({'Missing Values': missing_values, 'Percentage': missing_percentage})\n",
    "# Print columns with missing values, sorted\n",
    "print(f\"Below we are be able to see what each column misses in terms of values and percentage: \\n{missing_df[missing_df['Missing Values'] > 0].sort_values(by='Percentage', ascending=False)}\")"
   ]
  },
  {
   "cell_type": "code",
   "execution_count": 8,
   "metadata": {},
   "outputs": [
    {
     "name": "stdout",
     "output_type": "stream",
     "text": [
      "Summary Statistics for Numerical Columns:\n"
     ]
    },
    {
     "data": {
      "text/html": [
       "<div>\n",
       "<style scoped>\n",
       "    .dataframe tbody tr th:only-of-type {\n",
       "        vertical-align: middle;\n",
       "    }\n",
       "\n",
       "    .dataframe tbody tr th {\n",
       "        vertical-align: top;\n",
       "    }\n",
       "\n",
       "    .dataframe thead th {\n",
       "        text-align: right;\n",
       "    }\n",
       "</style>\n",
       "<table border=\"1\" class=\"dataframe\">\n",
       "  <thead>\n",
       "    <tr style=\"text-align: right;\">\n",
       "      <th></th>\n",
       "      <th>Number.of.Engines</th>\n",
       "      <th>Total.Fatal.Injuries</th>\n",
       "      <th>Total.Serious.Injuries</th>\n",
       "      <th>Total.Minor.Injuries</th>\n",
       "      <th>Total.Uninjured</th>\n",
       "    </tr>\n",
       "  </thead>\n",
       "  <tbody>\n",
       "    <tr>\n",
       "      <th>count</th>\n",
       "      <td>82805.000000</td>\n",
       "      <td>77488.000000</td>\n",
       "      <td>76379.000000</td>\n",
       "      <td>76956.000000</td>\n",
       "      <td>82977.000000</td>\n",
       "    </tr>\n",
       "    <tr>\n",
       "      <th>mean</th>\n",
       "      <td>1.146585</td>\n",
       "      <td>0.647855</td>\n",
       "      <td>0.279881</td>\n",
       "      <td>0.357061</td>\n",
       "      <td>5.325440</td>\n",
       "    </tr>\n",
       "    <tr>\n",
       "      <th>std</th>\n",
       "      <td>0.446510</td>\n",
       "      <td>5.485960</td>\n",
       "      <td>1.544084</td>\n",
       "      <td>2.235625</td>\n",
       "      <td>27.913634</td>\n",
       "    </tr>\n",
       "    <tr>\n",
       "      <th>min</th>\n",
       "      <td>0.000000</td>\n",
       "      <td>0.000000</td>\n",
       "      <td>0.000000</td>\n",
       "      <td>0.000000</td>\n",
       "      <td>0.000000</td>\n",
       "    </tr>\n",
       "    <tr>\n",
       "      <th>25%</th>\n",
       "      <td>1.000000</td>\n",
       "      <td>0.000000</td>\n",
       "      <td>0.000000</td>\n",
       "      <td>0.000000</td>\n",
       "      <td>0.000000</td>\n",
       "    </tr>\n",
       "    <tr>\n",
       "      <th>50%</th>\n",
       "      <td>1.000000</td>\n",
       "      <td>0.000000</td>\n",
       "      <td>0.000000</td>\n",
       "      <td>0.000000</td>\n",
       "      <td>1.000000</td>\n",
       "    </tr>\n",
       "    <tr>\n",
       "      <th>75%</th>\n",
       "      <td>1.000000</td>\n",
       "      <td>0.000000</td>\n",
       "      <td>0.000000</td>\n",
       "      <td>0.000000</td>\n",
       "      <td>2.000000</td>\n",
       "    </tr>\n",
       "    <tr>\n",
       "      <th>max</th>\n",
       "      <td>8.000000</td>\n",
       "      <td>349.000000</td>\n",
       "      <td>161.000000</td>\n",
       "      <td>380.000000</td>\n",
       "      <td>699.000000</td>\n",
       "    </tr>\n",
       "  </tbody>\n",
       "</table>\n",
       "</div>"
      ],
      "text/plain": [
       "       Number.of.Engines  Total.Fatal.Injuries  Total.Serious.Injuries  \\\n",
       "count       82805.000000          77488.000000            76379.000000   \n",
       "mean            1.146585              0.647855                0.279881   \n",
       "std             0.446510              5.485960                1.544084   \n",
       "min             0.000000              0.000000                0.000000   \n",
       "25%             1.000000              0.000000                0.000000   \n",
       "50%             1.000000              0.000000                0.000000   \n",
       "75%             1.000000              0.000000                0.000000   \n",
       "max             8.000000            349.000000              161.000000   \n",
       "\n",
       "       Total.Minor.Injuries  Total.Uninjured  \n",
       "count          76956.000000     82977.000000  \n",
       "mean               0.357061         5.325440  \n",
       "std                2.235625        27.913634  \n",
       "min                0.000000         0.000000  \n",
       "25%                0.000000         0.000000  \n",
       "50%                0.000000         1.000000  \n",
       "75%                0.000000         2.000000  \n",
       "max              380.000000       699.000000  "
      ]
     },
     "execution_count": 8,
     "metadata": {},
     "output_type": "execute_result"
    }
   ],
   "source": [
    "#Let's look at the statistics of the numerical columns\n",
    "\n",
    "print(\"Summary Statistics for Numerical Columns:\")\n",
    "df.describe()"
   ]
  },
  {
   "cell_type": "code",
   "execution_count": 9,
   "metadata": {},
   "outputs": [
    {
     "name": "stdout",
     "output_type": "stream",
     "text": [
      "Summary statistics of the categorical columns:\n"
     ]
    },
    {
     "data": {
      "text/html": [
       "<div>\n",
       "<style scoped>\n",
       "    .dataframe tbody tr th:only-of-type {\n",
       "        vertical-align: middle;\n",
       "    }\n",
       "\n",
       "    .dataframe tbody tr th {\n",
       "        vertical-align: top;\n",
       "    }\n",
       "\n",
       "    .dataframe thead th {\n",
       "        text-align: right;\n",
       "    }\n",
       "</style>\n",
       "<table border=\"1\" class=\"dataframe\">\n",
       "  <thead>\n",
       "    <tr style=\"text-align: right;\">\n",
       "      <th></th>\n",
       "      <th>Event.Id</th>\n",
       "      <th>Investigation.Type</th>\n",
       "      <th>Accident.Number</th>\n",
       "      <th>Event.Date</th>\n",
       "      <th>Location</th>\n",
       "      <th>Country</th>\n",
       "      <th>Latitude</th>\n",
       "      <th>Longitude</th>\n",
       "      <th>Airport.Code</th>\n",
       "      <th>Airport.Name</th>\n",
       "      <th>...</th>\n",
       "      <th>Amateur.Built</th>\n",
       "      <th>Engine.Type</th>\n",
       "      <th>FAR.Description</th>\n",
       "      <th>Schedule</th>\n",
       "      <th>Purpose.of.flight</th>\n",
       "      <th>Air.carrier</th>\n",
       "      <th>Weather.Condition</th>\n",
       "      <th>Broad.phase.of.flight</th>\n",
       "      <th>Report.Status</th>\n",
       "      <th>Publication.Date</th>\n",
       "    </tr>\n",
       "  </thead>\n",
       "  <tbody>\n",
       "    <tr>\n",
       "      <th>count</th>\n",
       "      <td>88889</td>\n",
       "      <td>88889</td>\n",
       "      <td>88889</td>\n",
       "      <td>88889</td>\n",
       "      <td>88837</td>\n",
       "      <td>88663</td>\n",
       "      <td>34382</td>\n",
       "      <td>34373</td>\n",
       "      <td>50249</td>\n",
       "      <td>52790</td>\n",
       "      <td>...</td>\n",
       "      <td>88787</td>\n",
       "      <td>81812</td>\n",
       "      <td>32023</td>\n",
       "      <td>12582</td>\n",
       "      <td>82697</td>\n",
       "      <td>16648</td>\n",
       "      <td>84397</td>\n",
       "      <td>61724</td>\n",
       "      <td>82508</td>\n",
       "      <td>75118</td>\n",
       "    </tr>\n",
       "    <tr>\n",
       "      <th>unique</th>\n",
       "      <td>87951</td>\n",
       "      <td>2</td>\n",
       "      <td>88863</td>\n",
       "      <td>14782</td>\n",
       "      <td>27758</td>\n",
       "      <td>219</td>\n",
       "      <td>25589</td>\n",
       "      <td>27154</td>\n",
       "      <td>10375</td>\n",
       "      <td>24871</td>\n",
       "      <td>...</td>\n",
       "      <td>2</td>\n",
       "      <td>13</td>\n",
       "      <td>31</td>\n",
       "      <td>3</td>\n",
       "      <td>26</td>\n",
       "      <td>13590</td>\n",
       "      <td>4</td>\n",
       "      <td>12</td>\n",
       "      <td>17075</td>\n",
       "      <td>2924</td>\n",
       "    </tr>\n",
       "    <tr>\n",
       "      <th>top</th>\n",
       "      <td>20001214X45071</td>\n",
       "      <td>Accident</td>\n",
       "      <td>ERA22FA318</td>\n",
       "      <td>1984-06-30</td>\n",
       "      <td>ANCHORAGE, AK</td>\n",
       "      <td>United States</td>\n",
       "      <td>332739N</td>\n",
       "      <td>0112457W</td>\n",
       "      <td>NONE</td>\n",
       "      <td>Private</td>\n",
       "      <td>...</td>\n",
       "      <td>No</td>\n",
       "      <td>Reciprocating</td>\n",
       "      <td>091</td>\n",
       "      <td>NSCH</td>\n",
       "      <td>Personal</td>\n",
       "      <td>Pilot</td>\n",
       "      <td>VMC</td>\n",
       "      <td>Landing</td>\n",
       "      <td>Probable Cause</td>\n",
       "      <td>25-09-2020</td>\n",
       "    </tr>\n",
       "    <tr>\n",
       "      <th>freq</th>\n",
       "      <td>3</td>\n",
       "      <td>85015</td>\n",
       "      <td>2</td>\n",
       "      <td>25</td>\n",
       "      <td>434</td>\n",
       "      <td>82248</td>\n",
       "      <td>19</td>\n",
       "      <td>24</td>\n",
       "      <td>1488</td>\n",
       "      <td>240</td>\n",
       "      <td>...</td>\n",
       "      <td>80312</td>\n",
       "      <td>69530</td>\n",
       "      <td>18221</td>\n",
       "      <td>4474</td>\n",
       "      <td>49448</td>\n",
       "      <td>258</td>\n",
       "      <td>77303</td>\n",
       "      <td>15428</td>\n",
       "      <td>61754</td>\n",
       "      <td>17019</td>\n",
       "    </tr>\n",
       "  </tbody>\n",
       "</table>\n",
       "<p>4 rows × 26 columns</p>\n",
       "</div>"
      ],
      "text/plain": [
       "              Event.Id Investigation.Type Accident.Number  Event.Date  \\\n",
       "count            88889              88889           88889       88889   \n",
       "unique           87951                  2           88863       14782   \n",
       "top     20001214X45071           Accident      ERA22FA318  1984-06-30   \n",
       "freq                 3              85015               2          25   \n",
       "\n",
       "             Location        Country Latitude Longitude Airport.Code  \\\n",
       "count           88837          88663    34382     34373        50249   \n",
       "unique          27758            219    25589     27154        10375   \n",
       "top     ANCHORAGE, AK  United States  332739N  0112457W         NONE   \n",
       "freq              434          82248       19        24         1488   \n",
       "\n",
       "       Airport.Name  ... Amateur.Built    Engine.Type FAR.Description  \\\n",
       "count         52790  ...         88787          81812           32023   \n",
       "unique        24871  ...             2             13              31   \n",
       "top         Private  ...            No  Reciprocating             091   \n",
       "freq            240  ...         80312          69530           18221   \n",
       "\n",
       "       Schedule Purpose.of.flight Air.carrier Weather.Condition  \\\n",
       "count     12582             82697       16648             84397   \n",
       "unique        3                26       13590                 4   \n",
       "top        NSCH          Personal       Pilot               VMC   \n",
       "freq       4474             49448         258             77303   \n",
       "\n",
       "       Broad.phase.of.flight   Report.Status Publication.Date  \n",
       "count                  61724           82508            75118  \n",
       "unique                    12           17075             2924  \n",
       "top                  Landing  Probable Cause       25-09-2020  \n",
       "freq                   15428           61754            17019  \n",
       "\n",
       "[4 rows x 26 columns]"
      ]
     },
     "execution_count": 9,
     "metadata": {},
     "output_type": "execute_result"
    }
   ],
   "source": [
    "#Statistics for the categorical columns\n",
    "print(\"Summary statistics of the categorical columns:\")\n",
    "df.describe(include = \"O\")"
   ]
  },
  {
   "cell_type": "code",
   "execution_count": 10,
   "metadata": {},
   "outputs": [
    {
     "name": "stdout",
     "output_type": "stream",
     "text": [
      "There are 0 duplicated values in this dataset\n"
     ]
    }
   ],
   "source": [
    "#Checking for duplicates in the dataset\n",
    "print(f\"There are {df.duplicated().sum()} duplicated values in this dataset\")"
   ]
  },
  {
   "cell_type": "markdown",
   "metadata": {},
   "source": [
    "## 3. Data Preparation"
   ]
  },
  {
   "cell_type": "markdown",
   "metadata": {},
   "source": [
    "### 1. Data Cleaning"
   ]
  },
  {
   "cell_type": "code",
   "execution_count": 11,
   "metadata": {},
   "outputs": [],
   "source": [
    "#Made a copy of the original data to clean\n",
    "df1 = df.copy()"
   ]
  },
  {
   "cell_type": "code",
   "execution_count": 12,
   "metadata": {},
   "outputs": [
    {
     "data": {
      "text/plain": [
       "Index(['Event.Id', 'Investigation.Type', 'Accident.Number', 'Event.Date',\n",
       "       'Location', 'Country', 'Latitude', 'Longitude', 'Airport.Code',\n",
       "       'Airport.Name', 'Injury.Severity', 'Aircraft.damage',\n",
       "       'Aircraft.Category', 'Registration.Number', 'Make', 'Model',\n",
       "       'Amateur.Built', 'Number.of.Engines', 'Engine.Type', 'FAR.Description',\n",
       "       'Schedule', 'Purpose.of.flight', 'Air.carrier', 'Total.Fatal.Injuries',\n",
       "       'Total.Serious.Injuries', 'Total.Minor.Injuries', 'Total.Uninjured',\n",
       "       'Weather.Condition', 'Broad.phase.of.flight', 'Report.Status',\n",
       "       'Publication.Date'],\n",
       "      dtype='object')"
      ]
     },
     "execution_count": 12,
     "metadata": {},
     "output_type": "execute_result"
    }
   ],
   "source": [
    "#Current column name formart\n",
    "df1.columns"
   ]
  },
  {
   "cell_type": "code",
   "execution_count": 13,
   "metadata": {},
   "outputs": [
    {
     "name": "stdout",
     "output_type": "stream",
     "text": [
      "The formated column names are: \n",
      "Index(['event_id', 'investigation_type', 'accident_number', 'event_date',\n",
      "       'location', 'country', 'latitude', 'longitude', 'airport_code',\n",
      "       'airport_name', 'injury_severity', 'aircraft_damage',\n",
      "       'aircraft_category', 'registration_number', 'make', 'model',\n",
      "       'amateur_built', 'number_of_engines', 'engine_type', 'far_description',\n",
      "       'schedule', 'purpose_of_flight', 'air_carrier', 'total_fatal_injuries',\n",
      "       'total_serious_injuries', 'total_minor_injuries', 'total_uninjured',\n",
      "       'weather_condition', 'broad_phase_of_flight', 'report_status',\n",
      "       'publication_date'],\n",
      "      dtype='object')\n"
     ]
    }
   ],
   "source": [
    "#The column names seem to be in different formats...we need to change that\n",
    "#the names need to have the same format for easy analysis\n",
    "df1.columns = [name.strip().replace(\".\", \"_\").lower() for name in df1.columns]\n",
    "\n",
    "print(f\"The formated column names are: \\n{df1.columns}\")"
   ]
  },
  {
   "cell_type": "code",
   "execution_count": 14,
   "metadata": {},
   "outputs": [
    {
     "name": "stdout",
     "output_type": "stream",
     "text": [
      "There are 16 remaining columns and they are: \n",
      "Index(['investigation_type', 'event_date', 'location', 'country',\n",
      "       'injury_severity', 'aircraft_damage', 'make', 'amateur_built',\n",
      "       'number_of_engines', 'engine_type', 'purpose_of_flight',\n",
      "       'total_fatal_injuries', 'total_serious_injuries',\n",
      "       'total_minor_injuries', 'total_uninjured', 'weather_condition'],\n",
      "      dtype='object')\n"
     ]
    }
   ],
   "source": [
    "#Get rid of the columns that hold no importance in the analysis\n",
    "\n",
    "columns_to_drop = ['event_id','accident_number','latitude','longitude','airport_code','airport_name','registration_number','model','aircraft_category'\n",
    "                   ,'far_description','schedule','air_carrier','report_status','publication_date','broad_phase_of_flight']\n",
    "\n",
    "df1.drop(columns=columns_to_drop,axis=1,inplace=True)\n",
    "\n",
    "print(f\"There are {len(df1.columns)} remaining columns and they are: \\n{df1.columns}\")"
   ]
  },
  {
   "cell_type": "code",
   "execution_count": 15,
   "metadata": {},
   "outputs": [
    {
     "name": "stdout",
     "output_type": "stream",
     "text": [
      "The number of null values in each column and their corresponding datatypes:\n"
     ]
    },
    {
     "data": {
      "text/html": [
       "<div>\n",
       "<style scoped>\n",
       "    .dataframe tbody tr th:only-of-type {\n",
       "        vertical-align: middle;\n",
       "    }\n",
       "\n",
       "    .dataframe tbody tr th {\n",
       "        vertical-align: top;\n",
       "    }\n",
       "\n",
       "    .dataframe thead th {\n",
       "        text-align: right;\n",
       "    }\n",
       "</style>\n",
       "<table border=\"1\" class=\"dataframe\">\n",
       "  <thead>\n",
       "    <tr style=\"text-align: right;\">\n",
       "      <th></th>\n",
       "      <th>Null Count</th>\n",
       "      <th>Data Type</th>\n",
       "    </tr>\n",
       "  </thead>\n",
       "  <tbody>\n",
       "    <tr>\n",
       "      <th>investigation_type</th>\n",
       "      <td>0</td>\n",
       "      <td>object</td>\n",
       "    </tr>\n",
       "    <tr>\n",
       "      <th>event_date</th>\n",
       "      <td>0</td>\n",
       "      <td>object</td>\n",
       "    </tr>\n",
       "    <tr>\n",
       "      <th>location</th>\n",
       "      <td>52</td>\n",
       "      <td>object</td>\n",
       "    </tr>\n",
       "    <tr>\n",
       "      <th>country</th>\n",
       "      <td>226</td>\n",
       "      <td>object</td>\n",
       "    </tr>\n",
       "    <tr>\n",
       "      <th>injury_severity</th>\n",
       "      <td>1000</td>\n",
       "      <td>object</td>\n",
       "    </tr>\n",
       "    <tr>\n",
       "      <th>aircraft_damage</th>\n",
       "      <td>3194</td>\n",
       "      <td>object</td>\n",
       "    </tr>\n",
       "    <tr>\n",
       "      <th>make</th>\n",
       "      <td>63</td>\n",
       "      <td>object</td>\n",
       "    </tr>\n",
       "    <tr>\n",
       "      <th>amateur_built</th>\n",
       "      <td>102</td>\n",
       "      <td>object</td>\n",
       "    </tr>\n",
       "    <tr>\n",
       "      <th>number_of_engines</th>\n",
       "      <td>6084</td>\n",
       "      <td>float64</td>\n",
       "    </tr>\n",
       "    <tr>\n",
       "      <th>engine_type</th>\n",
       "      <td>7077</td>\n",
       "      <td>object</td>\n",
       "    </tr>\n",
       "    <tr>\n",
       "      <th>purpose_of_flight</th>\n",
       "      <td>6192</td>\n",
       "      <td>object</td>\n",
       "    </tr>\n",
       "    <tr>\n",
       "      <th>total_fatal_injuries</th>\n",
       "      <td>11401</td>\n",
       "      <td>float64</td>\n",
       "    </tr>\n",
       "    <tr>\n",
       "      <th>total_serious_injuries</th>\n",
       "      <td>12510</td>\n",
       "      <td>float64</td>\n",
       "    </tr>\n",
       "    <tr>\n",
       "      <th>total_minor_injuries</th>\n",
       "      <td>11933</td>\n",
       "      <td>float64</td>\n",
       "    </tr>\n",
       "    <tr>\n",
       "      <th>total_uninjured</th>\n",
       "      <td>5912</td>\n",
       "      <td>float64</td>\n",
       "    </tr>\n",
       "    <tr>\n",
       "      <th>weather_condition</th>\n",
       "      <td>4492</td>\n",
       "      <td>object</td>\n",
       "    </tr>\n",
       "  </tbody>\n",
       "</table>\n",
       "</div>"
      ],
      "text/plain": [
       "                        Null Count Data Type\n",
       "investigation_type               0    object\n",
       "event_date                       0    object\n",
       "location                        52    object\n",
       "country                        226    object\n",
       "injury_severity               1000    object\n",
       "aircraft_damage               3194    object\n",
       "make                            63    object\n",
       "amateur_built                  102    object\n",
       "number_of_engines             6084   float64\n",
       "engine_type                   7077    object\n",
       "purpose_of_flight             6192    object\n",
       "total_fatal_injuries         11401   float64\n",
       "total_serious_injuries       12510   float64\n",
       "total_minor_injuries         11933   float64\n",
       "total_uninjured               5912   float64\n",
       "weather_condition             4492    object"
      ]
     },
     "execution_count": 15,
     "metadata": {},
     "output_type": "execute_result"
    }
   ],
   "source": [
    "#Get a clear picture of the remaining columns' missing values\n",
    "\n",
    "print(f\"The number of null values in each column and their corresponding datatypes:\")\n",
    "\n",
    "pd.DataFrame({'Null Count':df1.isnull().sum(),'Data Type':df1.dtypes})"
   ]
  },
  {
   "cell_type": "code",
   "execution_count": 16,
   "metadata": {},
   "outputs": [],
   "source": [
    "#Change the format of dates under 'event_date' to be in right format\n",
    "#And also extract the month and year\n",
    "df1['event_date'] = pd.to_datetime(df1['event_date'])\n",
    "df1['month'] = df1['event_date'].dt.month\n",
    "df1['year'] = df1['event_date'].dt.year"
   ]
  },
  {
   "cell_type": "code",
   "execution_count": 17,
   "metadata": {},
   "outputs": [],
   "source": [
    "#Check the Value counts for each column to know what action to take for the missing values\n",
    "#Create a function that returns unique values and counts them\n",
    "def column_value_counts(df,col):\n",
    "    for i in col:\n",
    "        print(f\"\\nColumn Name: {i}\")\n",
    "        print(df[i].value_counts())\n",
    "        print(\"------------\")\n",
    "        print()\n"
   ]
  },
  {
   "cell_type": "code",
   "execution_count": 18,
   "metadata": {},
   "outputs": [
    {
     "name": "stdout",
     "output_type": "stream",
     "text": [
      "\n",
      "Column Name: investigation_type\n",
      "Accident    85015\n",
      "Incident     3874\n",
      "Name: investigation_type, dtype: int64\n",
      "------------\n",
      "\n",
      "\n",
      "Column Name: event_date\n",
      "1982-05-16    25\n",
      "1984-06-30    25\n",
      "2000-07-08    25\n",
      "1983-06-05    24\n",
      "1983-08-05    24\n",
      "              ..\n",
      "2020-03-23     1\n",
      "2013-12-10     1\n",
      "2014-11-06     1\n",
      "2013-08-19     1\n",
      "2016-12-22     1\n",
      "Name: event_date, Length: 14782, dtype: int64\n",
      "------------\n",
      "\n",
      "\n",
      "Column Name: location\n",
      "ANCHORAGE, AK              434\n",
      "MIAMI, FL                  200\n",
      "ALBUQUERQUE, NM            196\n",
      "HOUSTON, TX                193\n",
      "CHICAGO, IL                184\n",
      "                          ... \n",
      "Cotopaxi Volcano, Spain      1\n",
      "Nanded, India                1\n",
      "LAKELANIER ISL., GA          1\n",
      "Middle Grove, NY             1\n",
      "GALEVILLE, NY                1\n",
      "Name: location, Length: 27758, dtype: int64\n",
      "------------\n",
      "\n",
      "\n",
      "Column Name: country\n",
      "United States     82248\n",
      "Brazil              374\n",
      "Canada              359\n",
      "Mexico              358\n",
      "United Kingdom      344\n",
      "                  ...  \n",
      "Malampa               1\n",
      "French Guiana         1\n",
      "Ivory Coast           1\n",
      "Nauru                 1\n",
      "Albania               1\n",
      "Name: country, Length: 219, dtype: int64\n",
      "------------\n",
      "\n",
      "\n",
      "Column Name: injury_severity\n",
      "Non-Fatal     67357\n",
      "Fatal(1)       6167\n",
      "Fatal          5262\n",
      "Fatal(2)       3711\n",
      "Incident       2219\n",
      "              ...  \n",
      "Fatal(107)        1\n",
      "Fatal(256)        1\n",
      "Fatal(31)         1\n",
      "Fatal(72)         1\n",
      "Fatal(54)         1\n",
      "Name: injury_severity, Length: 109, dtype: int64\n",
      "------------\n",
      "\n",
      "\n",
      "Column Name: aircraft_damage\n",
      "Substantial    64148\n",
      "Destroyed      18623\n",
      "Minor           2805\n",
      "Unknown          119\n",
      "Name: aircraft_damage, dtype: int64\n",
      "------------\n",
      "\n",
      "\n",
      "Column Name: make\n",
      "Cessna                    22227\n",
      "Piper                     12029\n",
      "CESSNA                     4922\n",
      "Beech                      4330\n",
      "PIPER                      2841\n",
      "                          ...  \n",
      "Beckner                       1\n",
      "CHARLAND                      1\n",
      "Keith A Smith                 1\n",
      "BRUMBAUGH B/KASOWSKI L        1\n",
      "Mallian                       1\n",
      "Name: make, Length: 8237, dtype: int64\n",
      "------------\n",
      "\n",
      "\n",
      "Column Name: amateur_built\n",
      "No     80312\n",
      "Yes     8475\n",
      "Name: amateur_built, dtype: int64\n",
      "------------\n",
      "\n",
      "\n",
      "Column Name: number_of_engines\n",
      "1.0    69582\n",
      "2.0    11079\n",
      "0.0     1226\n",
      "3.0      483\n",
      "4.0      431\n",
      "8.0        3\n",
      "6.0        1\n",
      "Name: number_of_engines, dtype: int64\n",
      "------------\n",
      "\n",
      "\n",
      "Column Name: engine_type\n",
      "Reciprocating      69530\n",
      "Turbo Shaft         3609\n",
      "Turbo Prop          3391\n",
      "Turbo Fan           2481\n",
      "Unknown             2051\n",
      "Turbo Jet            703\n",
      "None                  19\n",
      "Geared Turbofan       12\n",
      "Electric              10\n",
      "NONE                   2\n",
      "LR                     2\n",
      "UNK                    1\n",
      "Hybrid Rocket          1\n",
      "Name: engine_type, dtype: int64\n",
      "------------\n",
      "\n",
      "\n",
      "Column Name: purpose_of_flight\n",
      "Personal                     49448\n",
      "Instructional                10601\n",
      "Unknown                       6802\n",
      "Aerial Application            4712\n",
      "Business                      4018\n",
      "Positioning                   1646\n",
      "Other Work Use                1264\n",
      "Ferry                          812\n",
      "Aerial Observation             794\n",
      "Public Aircraft                720\n",
      "Executive/corporate            553\n",
      "Flight Test                    405\n",
      "Skydiving                      182\n",
      "External Load                  123\n",
      "Public Aircraft - Federal      105\n",
      "Banner Tow                     101\n",
      "Air Race show                   99\n",
      "Public Aircraft - Local         74\n",
      "Public Aircraft - State         64\n",
      "Air Race/show                   59\n",
      "Glider Tow                      53\n",
      "Firefighting                    40\n",
      "Air Drop                        11\n",
      "ASHO                             6\n",
      "PUBS                             4\n",
      "PUBL                             1\n",
      "Name: purpose_of_flight, dtype: int64\n",
      "------------\n",
      "\n",
      "\n",
      "Column Name: total_fatal_injuries\n",
      "0.0      59675\n",
      "1.0       8883\n",
      "2.0       5173\n",
      "3.0       1589\n",
      "4.0       1103\n",
      "         ...  \n",
      "31.0         1\n",
      "169.0        1\n",
      "150.0        1\n",
      "117.0        1\n",
      "156.0        1\n",
      "Name: total_fatal_injuries, Length: 125, dtype: int64\n",
      "------------\n",
      "\n",
      "\n",
      "Column Name: total_serious_injuries\n",
      "0.0      63289\n",
      "1.0       9125\n",
      "2.0       2815\n",
      "3.0        629\n",
      "4.0        258\n",
      "5.0         78\n",
      "6.0         41\n",
      "7.0         27\n",
      "9.0         16\n",
      "8.0         13\n",
      "10.0        13\n",
      "13.0         9\n",
      "11.0         6\n",
      "26.0         5\n",
      "14.0         5\n",
      "12.0         5\n",
      "25.0         3\n",
      "20.0         3\n",
      "28.0         3\n",
      "17.0         2\n",
      "50.0         2\n",
      "59.0         2\n",
      "21.0         2\n",
      "47.0         2\n",
      "55.0         1\n",
      "88.0         1\n",
      "41.0         1\n",
      "67.0         1\n",
      "33.0         1\n",
      "18.0         1\n",
      "161.0        1\n",
      "81.0         1\n",
      "39.0         1\n",
      "137.0        1\n",
      "27.0         1\n",
      "15.0         1\n",
      "45.0         1\n",
      "125.0        1\n",
      "23.0         1\n",
      "44.0         1\n",
      "106.0        1\n",
      "22.0         1\n",
      "34.0         1\n",
      "16.0         1\n",
      "35.0         1\n",
      "53.0         1\n",
      "43.0         1\n",
      "63.0         1\n",
      "19.0         1\n",
      "60.0         1\n",
      "Name: total_serious_injuries, dtype: int64\n",
      "------------\n",
      "\n",
      "\n",
      "Column Name: total_minor_injuries\n",
      "0.0      61454\n",
      "1.0      10320\n",
      "2.0       3576\n",
      "3.0        784\n",
      "4.0        372\n",
      "5.0        129\n",
      "6.0         67\n",
      "7.0         59\n",
      "9.0         22\n",
      "8.0         20\n",
      "13.0        14\n",
      "12.0        11\n",
      "10.0        11\n",
      "14.0        10\n",
      "11.0         9\n",
      "17.0         8\n",
      "18.0         6\n",
      "19.0         6\n",
      "22.0         5\n",
      "24.0         5\n",
      "15.0         4\n",
      "33.0         4\n",
      "16.0         4\n",
      "25.0         4\n",
      "23.0         3\n",
      "21.0         3\n",
      "32.0         3\n",
      "20.0         3\n",
      "27.0         3\n",
      "26.0         3\n",
      "30.0         2\n",
      "36.0         2\n",
      "42.0         2\n",
      "28.0         2\n",
      "38.0         2\n",
      "50.0         2\n",
      "31.0         2\n",
      "43.0         1\n",
      "39.0         1\n",
      "65.0         1\n",
      "47.0         1\n",
      "57.0         1\n",
      "58.0         1\n",
      "29.0         1\n",
      "45.0         1\n",
      "62.0         1\n",
      "71.0         1\n",
      "200.0        1\n",
      "125.0        1\n",
      "96.0         1\n",
      "69.0         1\n",
      "380.0        1\n",
      "68.0         1\n",
      "171.0        1\n",
      "35.0         1\n",
      "40.0         1\n",
      "84.0         1\n",
      "Name: total_minor_injuries, dtype: int64\n",
      "------------\n",
      "\n",
      "\n",
      "Column Name: total_uninjured\n",
      "0.0      29879\n",
      "1.0      25101\n",
      "2.0      15988\n",
      "3.0       4313\n",
      "4.0       2662\n",
      "         ...  \n",
      "325.0        1\n",
      "230.0        1\n",
      "260.0        1\n",
      "251.0        1\n",
      "414.0        1\n",
      "Name: total_uninjured, Length: 379, dtype: int64\n",
      "------------\n",
      "\n",
      "\n",
      "Column Name: weather_condition\n",
      "VMC    77303\n",
      "IMC     5976\n",
      "UNK      856\n",
      "Unk      262\n",
      "Name: weather_condition, dtype: int64\n",
      "------------\n",
      "\n",
      "\n",
      "Column Name: month\n",
      "7     10698\n",
      "8      9986\n",
      "6      9561\n",
      "5      8514\n",
      "9      8346\n",
      "4      7248\n",
      "10     6982\n",
      "3      6686\n",
      "11     5538\n",
      "2      5285\n",
      "12     5060\n",
      "1      4985\n",
      "Name: month, dtype: int64\n",
      "------------\n",
      "\n",
      "\n",
      "Column Name: year\n",
      "1982    3593\n",
      "1983    3556\n",
      "1984    3457\n",
      "1985    3096\n",
      "1986    2880\n",
      "1987    2828\n",
      "1988    2730\n",
      "1989    2544\n",
      "1990    2518\n",
      "1991    2462\n",
      "1992    2355\n",
      "1993    2313\n",
      "1995    2309\n",
      "1994    2257\n",
      "1998    2226\n",
      "2000    2220\n",
      "1999    2209\n",
      "1996    2187\n",
      "1997    2148\n",
      "2003    2085\n",
      "2001    2063\n",
      "2005    2031\n",
      "2002    2020\n",
      "2007    2016\n",
      "2004    1952\n",
      "2008    1893\n",
      "2006    1851\n",
      "2011    1850\n",
      "2012    1835\n",
      "2010    1786\n",
      "2009    1783\n",
      "2018    1681\n",
      "2016    1664\n",
      "2017    1638\n",
      "2019    1624\n",
      "2022    1607\n",
      "2015    1582\n",
      "2013    1561\n",
      "2021    1545\n",
      "2014    1535\n",
      "2020    1392\n",
      "1979       2\n",
      "1977       1\n",
      "1948       1\n",
      "1981       1\n",
      "1962       1\n",
      "1974       1\n",
      "Name: year, dtype: int64\n",
      "------------\n",
      "\n"
     ]
    }
   ],
   "source": [
    "#Calling the fucntion\n",
    "column_value_counts(df1,list(df1.columns))"
   ]
  },
  {
   "cell_type": "code",
   "execution_count": 19,
   "metadata": {},
   "outputs": [],
   "source": [
    "#The location columns seems to have different format for every value in each row\n",
    "#we need to have similar format\n",
    "#change everything under location to upper\n",
    "df1['location'] =df1['location'].str.upper()"
   ]
  },
  {
   "cell_type": "code",
   "execution_count": 20,
   "metadata": {},
   "outputs": [],
   "source": [
    "#The 'injury_severity' column seems to have different format too\n",
    "#remove the brackets and get the name 'fatal' alone\n",
    "df1['injury_severity'] = df1['injury_severity'].str.split('(').str[0]"
   ]
  },
  {
   "cell_type": "code",
   "execution_count": 21,
   "metadata": {},
   "outputs": [
    {
     "data": {
      "text/plain": [
       "Non-Fatal    67357\n",
       "Fatal        21532\n",
       "Name: injury_severity, dtype: int64"
      ]
     },
     "execution_count": 21,
     "metadata": {},
     "output_type": "execute_result"
    }
   ],
   "source": [
    "#Reduce the other unique values other than 'fatal' and 'non-fatal' to non-fatal\n",
    "df1.loc[(df1['injury_severity'] != 'Non-Fatal') & (df1['injury_severity'] != 'Incident'),'injury_severity'] = 'Fatal'\n",
    "df1.loc[(df1['injury_severity'] == \"Incident\"), 'injury_severity'] = 'Fatal'\n",
    "df1['injury_severity'].value_counts()"
   ]
  },
  {
   "cell_type": "code",
   "execution_count": 22,
   "metadata": {},
   "outputs": [],
   "source": [
    "#The column 'make' also has different formatted values...standardize the column\n",
    "df1['make'] = df1['make'].str.upper()"
   ]
  },
  {
   "cell_type": "code",
   "execution_count": 23,
   "metadata": {},
   "outputs": [],
   "source": [
    "#The column 'engine_type' also need to be standardized and replace the none,unk to unknown\n",
    "df1['engine_type'] = df1['engine_type'].str.lower().replace(['unk','none'],'unknown')"
   ]
  },
  {
   "cell_type": "code",
   "execution_count": 24,
   "metadata": {},
   "outputs": [],
   "source": [
    "#The column 'weather_condition' also need starndadisation\n",
    "df1['weather_condition'] = df1['weather_condition'].str.upper()"
   ]
  },
  {
   "cell_type": "code",
   "execution_count": 25,
   "metadata": {},
   "outputs": [
    {
     "name": "stdout",
     "output_type": "stream",
     "text": [
      "\n",
      "Column Name: investigation_type\n",
      "Accident    85015\n",
      "Incident     3874\n",
      "Name: investigation_type, dtype: int64\n",
      "------------\n",
      "\n",
      "\n",
      "Column Name: event_date\n",
      "1982-05-16    25\n",
      "1984-06-30    25\n",
      "2000-07-08    25\n",
      "1983-06-05    24\n",
      "1983-08-05    24\n",
      "              ..\n",
      "2020-03-23     1\n",
      "2013-12-10     1\n",
      "2014-11-06     1\n",
      "2013-08-19     1\n",
      "2016-12-22     1\n",
      "Name: event_date, Length: 14782, dtype: int64\n",
      "------------\n",
      "\n",
      "\n",
      "Column Name: location\n",
      "ANCHORAGE, AK       548\n",
      "MIAMI, FL           275\n",
      "HOUSTON, TX         271\n",
      "ALBUQUERQUE, NM     265\n",
      "CHICAGO, IL         256\n",
      "                   ... \n",
      "HARRISONBURG, LA      1\n",
      "PIEDMONT, MO          1\n",
      "MOSS BEACH, CA        1\n",
      "POYGEN, WI            1\n",
      "LINCH, WY             1\n",
      "Name: location, Length: 21978, dtype: int64\n",
      "------------\n",
      "\n",
      "\n",
      "Column Name: country\n",
      "United States     82248\n",
      "Brazil              374\n",
      "Canada              359\n",
      "Mexico              358\n",
      "United Kingdom      344\n",
      "                  ...  \n",
      "Malampa               1\n",
      "French Guiana         1\n",
      "Ivory Coast           1\n",
      "Nauru                 1\n",
      "Albania               1\n",
      "Name: country, Length: 219, dtype: int64\n",
      "------------\n",
      "\n",
      "\n",
      "Column Name: injury_severity\n",
      "Non-Fatal    67357\n",
      "Fatal        21532\n",
      "Name: injury_severity, dtype: int64\n",
      "------------\n",
      "\n",
      "\n",
      "Column Name: aircraft_damage\n",
      "Substantial    64148\n",
      "Destroyed      18623\n",
      "Minor           2805\n",
      "Unknown          119\n",
      "Name: aircraft_damage, dtype: int64\n",
      "------------\n",
      "\n",
      "\n",
      "Column Name: make\n",
      "CESSNA                   27149\n",
      "PIPER                    14870\n",
      "BEECH                     5372\n",
      "BOEING                    2745\n",
      "BELL                      2722\n",
      "                         ...  \n",
      "MUMM                         1\n",
      "FAY                          1\n",
      "KIBLER-BEDE                  1\n",
      "ORLANDO HELI AIR INC.        1\n",
      "FINK, CHARLES H.             1\n",
      "Name: make, Length: 7587, dtype: int64\n",
      "------------\n",
      "\n",
      "\n",
      "Column Name: amateur_built\n",
      "No     80312\n",
      "Yes     8475\n",
      "Name: amateur_built, dtype: int64\n",
      "------------\n",
      "\n",
      "\n",
      "Column Name: number_of_engines\n",
      "1.0    69582\n",
      "2.0    11079\n",
      "0.0     1226\n",
      "3.0      483\n",
      "4.0      431\n",
      "8.0        3\n",
      "6.0        1\n",
      "Name: number_of_engines, dtype: int64\n",
      "------------\n",
      "\n",
      "\n",
      "Column Name: engine_type\n",
      "reciprocating      69530\n",
      "turbo shaft         3609\n",
      "turbo prop          3391\n",
      "turbo fan           2481\n",
      "unknown             2073\n",
      "turbo jet            703\n",
      "geared turbofan       12\n",
      "electric              10\n",
      "lr                     2\n",
      "hybrid rocket          1\n",
      "Name: engine_type, dtype: int64\n",
      "------------\n",
      "\n",
      "\n",
      "Column Name: purpose_of_flight\n",
      "Personal                     49448\n",
      "Instructional                10601\n",
      "Unknown                       6802\n",
      "Aerial Application            4712\n",
      "Business                      4018\n",
      "Positioning                   1646\n",
      "Other Work Use                1264\n",
      "Ferry                          812\n",
      "Aerial Observation             794\n",
      "Public Aircraft                720\n",
      "Executive/corporate            553\n",
      "Flight Test                    405\n",
      "Skydiving                      182\n",
      "External Load                  123\n",
      "Public Aircraft - Federal      105\n",
      "Banner Tow                     101\n",
      "Air Race show                   99\n",
      "Public Aircraft - Local         74\n",
      "Public Aircraft - State         64\n",
      "Air Race/show                   59\n",
      "Glider Tow                      53\n",
      "Firefighting                    40\n",
      "Air Drop                        11\n",
      "ASHO                             6\n",
      "PUBS                             4\n",
      "PUBL                             1\n",
      "Name: purpose_of_flight, dtype: int64\n",
      "------------\n",
      "\n",
      "\n",
      "Column Name: total_fatal_injuries\n",
      "0.0      59675\n",
      "1.0       8883\n",
      "2.0       5173\n",
      "3.0       1589\n",
      "4.0       1103\n",
      "         ...  \n",
      "31.0         1\n",
      "169.0        1\n",
      "150.0        1\n",
      "117.0        1\n",
      "156.0        1\n",
      "Name: total_fatal_injuries, Length: 125, dtype: int64\n",
      "------------\n",
      "\n",
      "\n",
      "Column Name: total_serious_injuries\n",
      "0.0      63289\n",
      "1.0       9125\n",
      "2.0       2815\n",
      "3.0        629\n",
      "4.0        258\n",
      "5.0         78\n",
      "6.0         41\n",
      "7.0         27\n",
      "9.0         16\n",
      "8.0         13\n",
      "10.0        13\n",
      "13.0         9\n",
      "11.0         6\n",
      "26.0         5\n",
      "14.0         5\n",
      "12.0         5\n",
      "25.0         3\n",
      "20.0         3\n",
      "28.0         3\n",
      "17.0         2\n",
      "50.0         2\n",
      "59.0         2\n",
      "21.0         2\n",
      "47.0         2\n",
      "55.0         1\n",
      "88.0         1\n",
      "41.0         1\n",
      "67.0         1\n",
      "33.0         1\n",
      "18.0         1\n",
      "161.0        1\n",
      "81.0         1\n",
      "39.0         1\n",
      "137.0        1\n",
      "27.0         1\n",
      "15.0         1\n",
      "45.0         1\n",
      "125.0        1\n",
      "23.0         1\n",
      "44.0         1\n",
      "106.0        1\n",
      "22.0         1\n",
      "34.0         1\n",
      "16.0         1\n",
      "35.0         1\n",
      "53.0         1\n",
      "43.0         1\n",
      "63.0         1\n",
      "19.0         1\n",
      "60.0         1\n",
      "Name: total_serious_injuries, dtype: int64\n",
      "------------\n",
      "\n",
      "\n",
      "Column Name: total_minor_injuries\n",
      "0.0      61454\n",
      "1.0      10320\n",
      "2.0       3576\n",
      "3.0        784\n",
      "4.0        372\n",
      "5.0        129\n",
      "6.0         67\n",
      "7.0         59\n",
      "9.0         22\n",
      "8.0         20\n",
      "13.0        14\n",
      "12.0        11\n",
      "10.0        11\n",
      "14.0        10\n",
      "11.0         9\n",
      "17.0         8\n",
      "18.0         6\n",
      "19.0         6\n",
      "22.0         5\n",
      "24.0         5\n",
      "15.0         4\n",
      "33.0         4\n",
      "16.0         4\n",
      "25.0         4\n",
      "23.0         3\n",
      "21.0         3\n",
      "32.0         3\n",
      "20.0         3\n",
      "27.0         3\n",
      "26.0         3\n",
      "30.0         2\n",
      "36.0         2\n",
      "42.0         2\n",
      "28.0         2\n",
      "38.0         2\n",
      "50.0         2\n",
      "31.0         2\n",
      "43.0         1\n",
      "39.0         1\n",
      "65.0         1\n",
      "47.0         1\n",
      "57.0         1\n",
      "58.0         1\n",
      "29.0         1\n",
      "45.0         1\n",
      "62.0         1\n",
      "71.0         1\n",
      "200.0        1\n",
      "125.0        1\n",
      "96.0         1\n",
      "69.0         1\n",
      "380.0        1\n",
      "68.0         1\n",
      "171.0        1\n",
      "35.0         1\n",
      "40.0         1\n",
      "84.0         1\n",
      "Name: total_minor_injuries, dtype: int64\n",
      "------------\n",
      "\n",
      "\n",
      "Column Name: total_uninjured\n",
      "0.0      29879\n",
      "1.0      25101\n",
      "2.0      15988\n",
      "3.0       4313\n",
      "4.0       2662\n",
      "         ...  \n",
      "325.0        1\n",
      "230.0        1\n",
      "260.0        1\n",
      "251.0        1\n",
      "414.0        1\n",
      "Name: total_uninjured, Length: 379, dtype: int64\n",
      "------------\n",
      "\n",
      "\n",
      "Column Name: weather_condition\n",
      "VMC    77303\n",
      "IMC     5976\n",
      "UNK     1118\n",
      "Name: weather_condition, dtype: int64\n",
      "------------\n",
      "\n",
      "\n",
      "Column Name: month\n",
      "7     10698\n",
      "8      9986\n",
      "6      9561\n",
      "5      8514\n",
      "9      8346\n",
      "4      7248\n",
      "10     6982\n",
      "3      6686\n",
      "11     5538\n",
      "2      5285\n",
      "12     5060\n",
      "1      4985\n",
      "Name: month, dtype: int64\n",
      "------------\n",
      "\n",
      "\n",
      "Column Name: year\n",
      "1982    3593\n",
      "1983    3556\n",
      "1984    3457\n",
      "1985    3096\n",
      "1986    2880\n",
      "1987    2828\n",
      "1988    2730\n",
      "1989    2544\n",
      "1990    2518\n",
      "1991    2462\n",
      "1992    2355\n",
      "1993    2313\n",
      "1995    2309\n",
      "1994    2257\n",
      "1998    2226\n",
      "2000    2220\n",
      "1999    2209\n",
      "1996    2187\n",
      "1997    2148\n",
      "2003    2085\n",
      "2001    2063\n",
      "2005    2031\n",
      "2002    2020\n",
      "2007    2016\n",
      "2004    1952\n",
      "2008    1893\n",
      "2006    1851\n",
      "2011    1850\n",
      "2012    1835\n",
      "2010    1786\n",
      "2009    1783\n",
      "2018    1681\n",
      "2016    1664\n",
      "2017    1638\n",
      "2019    1624\n",
      "2022    1607\n",
      "2015    1582\n",
      "2013    1561\n",
      "2021    1545\n",
      "2014    1535\n",
      "2020    1392\n",
      "1979       2\n",
      "1977       1\n",
      "1948       1\n",
      "1981       1\n",
      "1962       1\n",
      "1974       1\n",
      "Name: year, dtype: int64\n",
      "------------\n",
      "\n"
     ]
    }
   ],
   "source": [
    "#Now let's look if all the values in each column have been standardized\n",
    "column_value_counts(df1,list(df1.columns))"
   ]
  },
  {
   "cell_type": "code",
   "execution_count": 26,
   "metadata": {},
   "outputs": [],
   "source": [
    "#The 'year' column needs to be edited\n",
    "#Remove the years before 1982\n",
    "df1.sort_values(by='year')\n",
    "df1 = df1[df1['year']>=1982]\n",
    "df1 = df1.reset_index(drop=True)"
   ]
  },
  {
   "cell_type": "code",
   "execution_count": 27,
   "metadata": {},
   "outputs": [],
   "source": [
    "#Filling in the values for the categorical data with 'Unknown'\n",
    "#While keeping in mind the data already filled as unknown or unk in weather and engine type column\n",
    "df1['make'].fillna('Unknown',inplace=True)\n",
    "df1['aircraft_damage'].fillna('Unknown',inplace=True)\n",
    "df1['purpose_of_flight'].fillna('Unknown',inplace=True)\n",
    "df1['weather_condition'].fillna('UNK',inplace=True)\n",
    "df1['engine_type'].fillna('unknown',inplace=True)\n",
    "df1['injury_severity'].fillna('Unavailable',inplace=True)"
   ]
  },
  {
   "cell_type": "code",
   "execution_count": 28,
   "metadata": {},
   "outputs": [],
   "source": [
    "#For the numerical the best value to fill the null places is the mode\n",
    "df1['number_of_engines'].fillna(value=(df1['number_of_engines'].mode()[0]), inplace=True)\n",
    "df1['total_fatal_injuries'].fillna(value=(df1['total_fatal_injuries'].mode()[0]), inplace=True)\n",
    "df1['total_serious_injuries'].fillna(value=(df1['total_serious_injuries'].mode()[0]), inplace=True)\n",
    "df1['total_minor_injuries'].fillna(value=(df1['total_minor_injuries'].mode()[0]), inplace=True)\n",
    "df1['total_uninjured'].fillna(value=(df1['total_uninjured'].mode()[0]), inplace=True)"
   ]
  },
  {
   "cell_type": "code",
   "execution_count": 29,
   "metadata": {},
   "outputs": [],
   "source": [
    "#Main focus is on injury severity\n",
    "#Remove rows which do not have information about injury\n",
    "df1 = df1[df1['injury_severity'] != 'Unavailable']"
   ]
  },
  {
   "cell_type": "code",
   "execution_count": 30,
   "metadata": {},
   "outputs": [],
   "source": [
    "#USA contains 93% of this dataset therefore let's focus on it\n",
    "df1 = df1[df1['country']=='United States']"
   ]
  },
  {
   "cell_type": "code",
   "execution_count": 31,
   "metadata": {},
   "outputs": [
    {
     "data": {
      "text/plain": [
       "investigation_type         0\n",
       "event_date                 0\n",
       "location                  11\n",
       "country                    0\n",
       "injury_severity            0\n",
       "aircraft_damage            0\n",
       "make                       0\n",
       "amateur_built             21\n",
       "number_of_engines          0\n",
       "engine_type                0\n",
       "purpose_of_flight          0\n",
       "total_fatal_injuries       0\n",
       "total_serious_injuries     0\n",
       "total_minor_injuries       0\n",
       "total_uninjured            0\n",
       "weather_condition          0\n",
       "month                      0\n",
       "year                       0\n",
       "dtype: int64"
      ]
     },
     "execution_count": 31,
     "metadata": {},
     "output_type": "execute_result"
    }
   ],
   "source": [
    "#Let's see if there are still null values in country\n",
    "df1.isnull().sum()"
   ]
  },
  {
   "cell_type": "code",
   "execution_count": 32,
   "metadata": {},
   "outputs": [],
   "source": [
    "#Amazing....for the location and amateur built let's drop the empty rows\n",
    "df1.dropna(subset=['location','amateur_built'],inplace=True)"
   ]
  },
  {
   "cell_type": "code",
   "execution_count": 33,
   "metadata": {},
   "outputs": [
    {
     "data": {
      "text/plain": [
       "investigation_type        0\n",
       "event_date                0\n",
       "location                  0\n",
       "country                   0\n",
       "injury_severity           0\n",
       "aircraft_damage           0\n",
       "make                      0\n",
       "amateur_built             0\n",
       "number_of_engines         0\n",
       "engine_type               0\n",
       "purpose_of_flight         0\n",
       "total_fatal_injuries      0\n",
       "total_serious_injuries    0\n",
       "total_minor_injuries      0\n",
       "total_uninjured           0\n",
       "weather_condition         0\n",
       "month                     0\n",
       "year                      0\n",
       "dtype: int64"
      ]
     },
     "execution_count": 33,
     "metadata": {},
     "output_type": "execute_result"
    }
   ],
   "source": [
    "#Clarification of what has been done above\n",
    "df1.isnull().sum()"
   ]
  },
  {
   "cell_type": "markdown",
   "metadata": {},
   "source": [
    "## Exploratory Data Analysis\n",
    "### 1. Univariate Data Analysis\n",
    "\n",
    "#### Accident Frequency by Manufacturer"
   ]
  },
  {
   "cell_type": "code",
   "execution_count": 34,
   "metadata": {},
   "outputs": [
    {
     "name": "stdout",
     "output_type": "stream",
     "text": [
      "Analyzing Accident Frequency by Aircraft Manufacturer....\n",
      "\n",
      "Top 15 Manufacturer by Total Accidents\n",
      "\n",
      "CESSNA         25842\n",
      "PIPER          14163\n",
      "BEECH           5057\n",
      "BELL            2283\n",
      "BOEING          1482\n",
      "MOONEY          1292\n",
      "GRUMMAN         1142\n",
      "BELLANCA        1040\n",
      "ROBINSON         919\n",
      "HUGHES           874\n",
      "SCHWEIZER        744\n",
      "AIR TRACTOR      644\n",
      "AERONCA          634\n",
      "MAULE            577\n",
      "CHAMPION         514\n",
      "Name: make, dtype: int64\n"
     ]
    }
   ],
   "source": [
    "print(\"Analyzing Accident Frequency by Aircraft Manufacturer....\")\n",
    "\n",
    "make_counts = df1['make'].value_counts()\n",
    "top_15_make = make_counts.head(15)\n",
    "\n",
    "print(\"\\nTop 15 Manufacturer by Total Accidents\\n\")\n",
    "print(top_15_make)"
   ]
  },
  {
   "cell_type": "code",
   "execution_count": 35,
   "metadata": {},
   "outputs": [],
   "source": [
    "#Combine the 'total_serious_injuries' and 'total_minor_injuries' to a new column and name it 'total_injuries'\n",
    "#Get rid of the two columns\n",
    "df1['total_injured'] = df1['total_serious_injuries'] + df1['total_minor_injuries']\n",
    "del df1['total_serious_injuries']\n",
    "del df1['total_minor_injuries']"
   ]
  },
  {
   "cell_type": "code",
   "execution_count": 36,
   "metadata": {},
   "outputs": [
    {
     "data": {
      "text/html": [
       "<div>\n",
       "<style scoped>\n",
       "    .dataframe tbody tr th:only-of-type {\n",
       "        vertical-align: middle;\n",
       "    }\n",
       "\n",
       "    .dataframe tbody tr th {\n",
       "        vertical-align: top;\n",
       "    }\n",
       "\n",
       "    .dataframe thead th {\n",
       "        text-align: right;\n",
       "    }\n",
       "</style>\n",
       "<table border=\"1\" class=\"dataframe\">\n",
       "  <thead>\n",
       "    <tr style=\"text-align: right;\">\n",
       "      <th></th>\n",
       "      <th>investigation_type</th>\n",
       "      <th>event_date</th>\n",
       "      <th>location</th>\n",
       "      <th>country</th>\n",
       "      <th>injury_severity</th>\n",
       "      <th>aircraft_damage</th>\n",
       "      <th>make</th>\n",
       "      <th>amateur_built</th>\n",
       "      <th>number_of_engines</th>\n",
       "      <th>engine_type</th>\n",
       "      <th>purpose_of_flight</th>\n",
       "      <th>total_fatal_injuries</th>\n",
       "      <th>total_uninjured</th>\n",
       "      <th>weather_condition</th>\n",
       "      <th>month</th>\n",
       "      <th>year</th>\n",
       "      <th>total_injured</th>\n",
       "    </tr>\n",
       "  </thead>\n",
       "  <tbody>\n",
       "    <tr>\n",
       "      <th>0</th>\n",
       "      <td>Accident</td>\n",
       "      <td>1982-01-01</td>\n",
       "      <td>PULLMAN, WA</td>\n",
       "      <td>United States</td>\n",
       "      <td>Non-Fatal</td>\n",
       "      <td>Substantial</td>\n",
       "      <td>CESSNA</td>\n",
       "      <td>No</td>\n",
       "      <td>1.0</td>\n",
       "      <td>reciprocating</td>\n",
       "      <td>Personal</td>\n",
       "      <td>0.0</td>\n",
       "      <td>2.0</td>\n",
       "      <td>VMC</td>\n",
       "      <td>1</td>\n",
       "      <td>1982</td>\n",
       "      <td>0.0</td>\n",
       "    </tr>\n",
       "    <tr>\n",
       "      <th>1</th>\n",
       "      <td>Accident</td>\n",
       "      <td>1982-01-01</td>\n",
       "      <td>EAST HANOVER, NJ</td>\n",
       "      <td>United States</td>\n",
       "      <td>Non-Fatal</td>\n",
       "      <td>Substantial</td>\n",
       "      <td>CESSNA</td>\n",
       "      <td>No</td>\n",
       "      <td>2.0</td>\n",
       "      <td>reciprocating</td>\n",
       "      <td>Business</td>\n",
       "      <td>0.0</td>\n",
       "      <td>2.0</td>\n",
       "      <td>IMC</td>\n",
       "      <td>1</td>\n",
       "      <td>1982</td>\n",
       "      <td>0.0</td>\n",
       "    </tr>\n",
       "    <tr>\n",
       "      <th>3</th>\n",
       "      <td>Accident</td>\n",
       "      <td>1982-01-01</td>\n",
       "      <td>HOBBS, NM</td>\n",
       "      <td>United States</td>\n",
       "      <td>Non-Fatal</td>\n",
       "      <td>Substantial</td>\n",
       "      <td>PIPER</td>\n",
       "      <td>No</td>\n",
       "      <td>1.0</td>\n",
       "      <td>reciprocating</td>\n",
       "      <td>Personal</td>\n",
       "      <td>0.0</td>\n",
       "      <td>1.0</td>\n",
       "      <td>VMC</td>\n",
       "      <td>1</td>\n",
       "      <td>1982</td>\n",
       "      <td>0.0</td>\n",
       "    </tr>\n",
       "    <tr>\n",
       "      <th>4</th>\n",
       "      <td>Accident</td>\n",
       "      <td>1982-01-01</td>\n",
       "      <td>TUSKEGEE, AL</td>\n",
       "      <td>United States</td>\n",
       "      <td>Non-Fatal</td>\n",
       "      <td>Substantial</td>\n",
       "      <td>BEECH</td>\n",
       "      <td>No</td>\n",
       "      <td>1.0</td>\n",
       "      <td>reciprocating</td>\n",
       "      <td>Personal</td>\n",
       "      <td>0.0</td>\n",
       "      <td>1.0</td>\n",
       "      <td>VMC</td>\n",
       "      <td>1</td>\n",
       "      <td>1982</td>\n",
       "      <td>0.0</td>\n",
       "    </tr>\n",
       "    <tr>\n",
       "      <th>5</th>\n",
       "      <td>Accident</td>\n",
       "      <td>1982-01-02</td>\n",
       "      <td>HOMER, LA</td>\n",
       "      <td>United States</td>\n",
       "      <td>Non-Fatal</td>\n",
       "      <td>Destroyed</td>\n",
       "      <td>BELLANCA</td>\n",
       "      <td>No</td>\n",
       "      <td>1.0</td>\n",
       "      <td>reciprocating</td>\n",
       "      <td>Personal</td>\n",
       "      <td>0.0</td>\n",
       "      <td>0.0</td>\n",
       "      <td>IMC</td>\n",
       "      <td>1</td>\n",
       "      <td>1982</td>\n",
       "      <td>1.0</td>\n",
       "    </tr>\n",
       "    <tr>\n",
       "      <th>...</th>\n",
       "      <td>...</td>\n",
       "      <td>...</td>\n",
       "      <td>...</td>\n",
       "      <td>...</td>\n",
       "      <td>...</td>\n",
       "      <td>...</td>\n",
       "      <td>...</td>\n",
       "      <td>...</td>\n",
       "      <td>...</td>\n",
       "      <td>...</td>\n",
       "      <td>...</td>\n",
       "      <td>...</td>\n",
       "      <td>...</td>\n",
       "      <td>...</td>\n",
       "      <td>...</td>\n",
       "      <td>...</td>\n",
       "      <td>...</td>\n",
       "    </tr>\n",
       "    <tr>\n",
       "      <th>88874</th>\n",
       "      <td>Accident</td>\n",
       "      <td>2022-12-21</td>\n",
       "      <td>AUBURN HILLS, MI</td>\n",
       "      <td>United States</td>\n",
       "      <td>Fatal</td>\n",
       "      <td>Unknown</td>\n",
       "      <td>CESSNA</td>\n",
       "      <td>No</td>\n",
       "      <td>1.0</td>\n",
       "      <td>unknown</td>\n",
       "      <td>Personal</td>\n",
       "      <td>0.0</td>\n",
       "      <td>0.0</td>\n",
       "      <td>UNK</td>\n",
       "      <td>12</td>\n",
       "      <td>2022</td>\n",
       "      <td>1.0</td>\n",
       "    </tr>\n",
       "    <tr>\n",
       "      <th>88877</th>\n",
       "      <td>Accident</td>\n",
       "      <td>2022-12-26</td>\n",
       "      <td>ANNAPOLIS, MD</td>\n",
       "      <td>United States</td>\n",
       "      <td>Fatal</td>\n",
       "      <td>Unknown</td>\n",
       "      <td>PIPER</td>\n",
       "      <td>No</td>\n",
       "      <td>1.0</td>\n",
       "      <td>unknown</td>\n",
       "      <td>Personal</td>\n",
       "      <td>0.0</td>\n",
       "      <td>0.0</td>\n",
       "      <td>UNK</td>\n",
       "      <td>12</td>\n",
       "      <td>2022</td>\n",
       "      <td>1.0</td>\n",
       "    </tr>\n",
       "    <tr>\n",
       "      <th>88878</th>\n",
       "      <td>Accident</td>\n",
       "      <td>2022-12-26</td>\n",
       "      <td>HAMPTON, NH</td>\n",
       "      <td>United States</td>\n",
       "      <td>Fatal</td>\n",
       "      <td>Unknown</td>\n",
       "      <td>BELLANCA</td>\n",
       "      <td>No</td>\n",
       "      <td>1.0</td>\n",
       "      <td>unknown</td>\n",
       "      <td>Unknown</td>\n",
       "      <td>0.0</td>\n",
       "      <td>0.0</td>\n",
       "      <td>UNK</td>\n",
       "      <td>12</td>\n",
       "      <td>2022</td>\n",
       "      <td>0.0</td>\n",
       "    </tr>\n",
       "    <tr>\n",
       "      <th>88880</th>\n",
       "      <td>Accident</td>\n",
       "      <td>2022-12-26</td>\n",
       "      <td>MORGAN, UT</td>\n",
       "      <td>United States</td>\n",
       "      <td>Fatal</td>\n",
       "      <td>Unknown</td>\n",
       "      <td>CESSNA</td>\n",
       "      <td>No</td>\n",
       "      <td>1.0</td>\n",
       "      <td>unknown</td>\n",
       "      <td>Personal</td>\n",
       "      <td>0.0</td>\n",
       "      <td>0.0</td>\n",
       "      <td>UNK</td>\n",
       "      <td>12</td>\n",
       "      <td>2022</td>\n",
       "      <td>0.0</td>\n",
       "    </tr>\n",
       "    <tr>\n",
       "      <th>88881</th>\n",
       "      <td>Accident</td>\n",
       "      <td>2022-12-29</td>\n",
       "      <td>ATHENS, GA</td>\n",
       "      <td>United States</td>\n",
       "      <td>Fatal</td>\n",
       "      <td>Unknown</td>\n",
       "      <td>PIPER</td>\n",
       "      <td>No</td>\n",
       "      <td>1.0</td>\n",
       "      <td>unknown</td>\n",
       "      <td>Personal</td>\n",
       "      <td>0.0</td>\n",
       "      <td>1.0</td>\n",
       "      <td>UNK</td>\n",
       "      <td>12</td>\n",
       "      <td>2022</td>\n",
       "      <td>1.0</td>\n",
       "    </tr>\n",
       "  </tbody>\n",
       "</table>\n",
       "<p>57207 rows × 17 columns</p>\n",
       "</div>"
      ],
      "text/plain": [
       "      investigation_type event_date          location        country  \\\n",
       "0               Accident 1982-01-01       PULLMAN, WA  United States   \n",
       "1               Accident 1982-01-01  EAST HANOVER, NJ  United States   \n",
       "3               Accident 1982-01-01         HOBBS, NM  United States   \n",
       "4               Accident 1982-01-01      TUSKEGEE, AL  United States   \n",
       "5               Accident 1982-01-02         HOMER, LA  United States   \n",
       "...                  ...        ...               ...            ...   \n",
       "88874           Accident 2022-12-21  AUBURN HILLS, MI  United States   \n",
       "88877           Accident 2022-12-26     ANNAPOLIS, MD  United States   \n",
       "88878           Accident 2022-12-26       HAMPTON, NH  United States   \n",
       "88880           Accident 2022-12-26        MORGAN, UT  United States   \n",
       "88881           Accident 2022-12-29        ATHENS, GA  United States   \n",
       "\n",
       "      injury_severity aircraft_damage      make amateur_built  \\\n",
       "0           Non-Fatal     Substantial    CESSNA            No   \n",
       "1           Non-Fatal     Substantial    CESSNA            No   \n",
       "3           Non-Fatal     Substantial     PIPER            No   \n",
       "4           Non-Fatal     Substantial     BEECH            No   \n",
       "5           Non-Fatal       Destroyed  BELLANCA            No   \n",
       "...               ...             ...       ...           ...   \n",
       "88874           Fatal         Unknown    CESSNA            No   \n",
       "88877           Fatal         Unknown     PIPER            No   \n",
       "88878           Fatal         Unknown  BELLANCA            No   \n",
       "88880           Fatal         Unknown    CESSNA            No   \n",
       "88881           Fatal         Unknown     PIPER            No   \n",
       "\n",
       "       number_of_engines    engine_type purpose_of_flight  \\\n",
       "0                    1.0  reciprocating          Personal   \n",
       "1                    2.0  reciprocating          Business   \n",
       "3                    1.0  reciprocating          Personal   \n",
       "4                    1.0  reciprocating          Personal   \n",
       "5                    1.0  reciprocating          Personal   \n",
       "...                  ...            ...               ...   \n",
       "88874                1.0        unknown          Personal   \n",
       "88877                1.0        unknown          Personal   \n",
       "88878                1.0        unknown           Unknown   \n",
       "88880                1.0        unknown          Personal   \n",
       "88881                1.0        unknown          Personal   \n",
       "\n",
       "       total_fatal_injuries  total_uninjured weather_condition  month  year  \\\n",
       "0                       0.0              2.0               VMC      1  1982   \n",
       "1                       0.0              2.0               IMC      1  1982   \n",
       "3                       0.0              1.0               VMC      1  1982   \n",
       "4                       0.0              1.0               VMC      1  1982   \n",
       "5                       0.0              0.0               IMC      1  1982   \n",
       "...                     ...              ...               ...    ...   ...   \n",
       "88874                   0.0              0.0               UNK     12  2022   \n",
       "88877                   0.0              0.0               UNK     12  2022   \n",
       "88878                   0.0              0.0               UNK     12  2022   \n",
       "88880                   0.0              0.0               UNK     12  2022   \n",
       "88881                   0.0              1.0               UNK     12  2022   \n",
       "\n",
       "       total_injured  \n",
       "0                0.0  \n",
       "1                0.0  \n",
       "3                0.0  \n",
       "4                0.0  \n",
       "5                1.0  \n",
       "...              ...  \n",
       "88874            1.0  \n",
       "88877            1.0  \n",
       "88878            0.0  \n",
       "88880            0.0  \n",
       "88881            1.0  \n",
       "\n",
       "[57207 rows x 17 columns]"
      ]
     },
     "execution_count": 36,
     "metadata": {},
     "output_type": "execute_result"
    }
   ],
   "source": [
    "#create a dataframe to hold only for the top 15 make\n",
    "top_15_make = df1[df1['make'].isin(top_15_make.index.tolist())]\n",
    "top_15_make"
   ]
  },
  {
   "cell_type": "code",
   "execution_count": 37,
   "metadata": {},
   "outputs": [
    {
     "data": {
      "image/png": "[encoded data removed]",
      "text/plain": [
       "<Figure size 864x432 with 1 Axes>"
      ]
     },
     "metadata": {
      "needs_background": "light"
     },
     "output_type": "display_data"
    }
   ],
   "source": [
    "plt.figure(figsize=(12, 6))\n",
    "sns.countplot(x = 'make', order = top_15_make['make'].value_counts().index, color = '#3E3F5B', data = top_15_make)\n",
    "plt.title('The number of recorded accidents')\n",
    "plt.ylabel('Count of accidents') \n",
    "plt.xlabel('Aircraft Make')\n",
    "plt.xticks(rotation=90)\n",
    "plt.show()"
   ]
  },
  {
   "cell_type": "code",
   "execution_count": 38,
   "metadata": {},
   "outputs": [
    {
     "data": {
      "image/png": "[encoded data removed]",
      "text/plain": [
       "<Figure size 864x432 with 1 Axes>"
      ]
     },
     "metadata": {
      "needs_background": "light"
     },
     "output_type": "display_data"
    }
   ],
   "source": [
    "plt.figure(figsize=(12, 6))\n",
    "sns.barplot(x='make', y = 'total_fatal_injuries', data=top_15_make, estimator=sum)\n",
    "plt.title('Total Fatal Injuries by Aircraft Make')\n",
    "plt.ylabel('Sum of Total Fatal Injuries') \n",
    "plt.xlabel('Aircraft Make')\n",
    "plt.xticks(rotation=90)\n",
    "plt.show()"
   ]
  },
  {
   "cell_type": "code",
   "execution_count": 39,
   "metadata": {},
   "outputs": [
    {
     "data": {
      "image/png": "[encoded data removed]",
      "text/plain": [
       "<Figure size 864x432 with 1 Axes>"
      ]
     },
     "metadata": {
      "needs_background": "light"
     },
     "output_type": "display_data"
    }
   ],
   "source": [
    "plt.figure(figsize=(12, 6))\n",
    "sns.barplot(x='make', y = 'total_injured', data=top_15_make, estimator=sum)\n",
    "plt.title('Total Injured by Aircraft Make')\n",
    "plt.ylabel('Sum of Total Injured') \n",
    "plt.xlabel('Aircraft Make')\n",
    "plt.xticks(rotation=90)\n",
    "plt.show()"
   ]
  },
  {
   "cell_type": "code",
   "execution_count": 40,
   "metadata": {},
   "outputs": [
    {
     "data": {
      "image/png": "[encoded data removed]",
      "text/plain": [
       "<Figure size 864x432 with 1 Axes>"
      ]
     },
     "metadata": {
      "needs_background": "light"
     },
     "output_type": "display_data"
    }
   ],
   "source": [
    "plt.figure(figsize=(12, 6))\n",
    "sns.barplot(x='make', y = 'total_uninjured', data=top_15_make, estimator=sum)\n",
    "plt.title('Total  uninjured by Aircraft Make')\n",
    "plt.ylabel('Sum of Total  uninjured') \n",
    "plt.xlabel('Aircraft Make')\n",
    "plt.xticks(rotation=90)\n",
    "plt.show()"
   ]
  },
  {
   "cell_type": "markdown",
   "metadata": {},
   "source": [
    "#### Accident Frequency by Location"
   ]
  },
  {
   "cell_type": "code",
   "execution_count": 41,
   "metadata": {},
   "outputs": [],
   "source": [
    "df1['state'] = df1['location'].str.split(',').str[0]\n",
    "del df1['location']"
   ]
  },
  {
   "cell_type": "code",
   "execution_count": 42,
   "metadata": {},
   "outputs": [
    {
     "name": "stdout",
     "output_type": "stream",
     "text": [
      "Analyzing Accident Frequency by State....\n",
      "\n",
      "Top 15 States by Total Accidents\n",
      "\n",
      "ANCHORAGE       548\n",
      "HOUSTON         283\n",
      "MIAMI           283\n",
      "ALBUQUERQUE     265\n",
      "CHICAGO         256\n",
      "FAIRBANKS       246\n",
      "PHOENIX         224\n",
      "ATLANTA         210\n",
      "DENVER          202\n",
      "JACKSONVILLE    197\n",
      "LAS VEGAS       197\n",
      "TUCSON          196\n",
      "RENO            179\n",
      "SAN DIEGO       177\n",
      "COLUMBUS        177\n",
      "Name: state, dtype: int64\n"
     ]
    }
   ],
   "source": [
    "print(\"Analyzing Accident Frequency by State....\")\n",
    "\n",
    "state_counts = df1['state'].value_counts()\n",
    "top_15_states = state_counts.head(15)\n",
    "\n",
    "print(\"\\nTop 15 States by Total Accidents\\n\")\n",
    "print(top_15_states)"
   ]
  },
  {
   "cell_type": "code",
   "execution_count": 43,
   "metadata": {},
   "outputs": [
    {
     "data": {
      "text/html": [
       "<div>\n",
       "<style scoped>\n",
       "    .dataframe tbody tr th:only-of-type {\n",
       "        vertical-align: middle;\n",
       "    }\n",
       "\n",
       "    .dataframe tbody tr th {\n",
       "        vertical-align: top;\n",
       "    }\n",
       "\n",
       "    .dataframe thead th {\n",
       "        text-align: right;\n",
       "    }\n",
       "</style>\n",
       "<table border=\"1\" class=\"dataframe\">\n",
       "  <thead>\n",
       "    <tr style=\"text-align: right;\">\n",
       "      <th></th>\n",
       "      <th>investigation_type</th>\n",
       "      <th>event_date</th>\n",
       "      <th>country</th>\n",
       "      <th>injury_severity</th>\n",
       "      <th>aircraft_damage</th>\n",
       "      <th>make</th>\n",
       "      <th>amateur_built</th>\n",
       "      <th>number_of_engines</th>\n",
       "      <th>engine_type</th>\n",
       "      <th>purpose_of_flight</th>\n",
       "      <th>total_fatal_injuries</th>\n",
       "      <th>total_uninjured</th>\n",
       "      <th>weather_condition</th>\n",
       "      <th>month</th>\n",
       "      <th>year</th>\n",
       "      <th>total_injured</th>\n",
       "      <th>state</th>\n",
       "    </tr>\n",
       "  </thead>\n",
       "  <tbody>\n",
       "    <tr>\n",
       "      <th>2</th>\n",
       "      <td>Accident</td>\n",
       "      <td>1982-01-01</td>\n",
       "      <td>United States</td>\n",
       "      <td>Non-Fatal</td>\n",
       "      <td>Substantial</td>\n",
       "      <td>NORTH AMERICAN</td>\n",
       "      <td>No</td>\n",
       "      <td>1.0</td>\n",
       "      <td>reciprocating</td>\n",
       "      <td>Personal</td>\n",
       "      <td>0.0</td>\n",
       "      <td>0.0</td>\n",
       "      <td>IMC</td>\n",
       "      <td>1</td>\n",
       "      <td>1982</td>\n",
       "      <td>3.0</td>\n",
       "      <td>JACKSONVILLE</td>\n",
       "    </tr>\n",
       "    <tr>\n",
       "      <th>12</th>\n",
       "      <td>Accident</td>\n",
       "      <td>1982-01-02</td>\n",
       "      <td>United States</td>\n",
       "      <td>Non-Fatal</td>\n",
       "      <td>Substantial</td>\n",
       "      <td>SMITH</td>\n",
       "      <td>No</td>\n",
       "      <td>1.0</td>\n",
       "      <td>reciprocating</td>\n",
       "      <td>Personal</td>\n",
       "      <td>0.0</td>\n",
       "      <td>2.0</td>\n",
       "      <td>VMC</td>\n",
       "      <td>1</td>\n",
       "      <td>1982</td>\n",
       "      <td>0.0</td>\n",
       "      <td>MIAMI</td>\n",
       "    </tr>\n",
       "    <tr>\n",
       "      <th>72</th>\n",
       "      <td>Incident</td>\n",
       "      <td>1982-01-12</td>\n",
       "      <td>United States</td>\n",
       "      <td>Fatal</td>\n",
       "      <td>Unknown</td>\n",
       "      <td>LOCKHEED</td>\n",
       "      <td>No</td>\n",
       "      <td>3.0</td>\n",
       "      <td>turbo fan</td>\n",
       "      <td>Unknown</td>\n",
       "      <td>0.0</td>\n",
       "      <td>149.0</td>\n",
       "      <td>UNK</td>\n",
       "      <td>1</td>\n",
       "      <td>1982</td>\n",
       "      <td>0.0</td>\n",
       "      <td>CHICAGO</td>\n",
       "    </tr>\n",
       "    <tr>\n",
       "      <th>98</th>\n",
       "      <td>Accident</td>\n",
       "      <td>1982-01-17</td>\n",
       "      <td>United States</td>\n",
       "      <td>Non-Fatal</td>\n",
       "      <td>Destroyed</td>\n",
       "      <td>CESSNA</td>\n",
       "      <td>No</td>\n",
       "      <td>1.0</td>\n",
       "      <td>reciprocating</td>\n",
       "      <td>Instructional</td>\n",
       "      <td>0.0</td>\n",
       "      <td>1.0</td>\n",
       "      <td>VMC</td>\n",
       "      <td>1</td>\n",
       "      <td>1982</td>\n",
       "      <td>1.0</td>\n",
       "      <td>ANCHORAGE</td>\n",
       "    </tr>\n",
       "    <tr>\n",
       "      <th>122</th>\n",
       "      <td>Accident</td>\n",
       "      <td>1982-01-19</td>\n",
       "      <td>United States</td>\n",
       "      <td>Non-Fatal</td>\n",
       "      <td>Substantial</td>\n",
       "      <td>CANADAIR</td>\n",
       "      <td>No</td>\n",
       "      <td>4.0</td>\n",
       "      <td>turbo prop</td>\n",
       "      <td>Unknown</td>\n",
       "      <td>0.0</td>\n",
       "      <td>6.0</td>\n",
       "      <td>VMC</td>\n",
       "      <td>1</td>\n",
       "      <td>1982</td>\n",
       "      <td>0.0</td>\n",
       "      <td>MIAMI</td>\n",
       "    </tr>\n",
       "    <tr>\n",
       "      <th>...</th>\n",
       "      <td>...</td>\n",
       "      <td>...</td>\n",
       "      <td>...</td>\n",
       "      <td>...</td>\n",
       "      <td>...</td>\n",
       "      <td>...</td>\n",
       "      <td>...</td>\n",
       "      <td>...</td>\n",
       "      <td>...</td>\n",
       "      <td>...</td>\n",
       "      <td>...</td>\n",
       "      <td>...</td>\n",
       "      <td>...</td>\n",
       "      <td>...</td>\n",
       "      <td>...</td>\n",
       "      <td>...</td>\n",
       "      <td>...</td>\n",
       "    </tr>\n",
       "    <tr>\n",
       "      <th>88765</th>\n",
       "      <td>Accident</td>\n",
       "      <td>2022-11-10</td>\n",
       "      <td>United States</td>\n",
       "      <td>Fatal</td>\n",
       "      <td>Unknown</td>\n",
       "      <td>BOEING</td>\n",
       "      <td>No</td>\n",
       "      <td>2.0</td>\n",
       "      <td>unknown</td>\n",
       "      <td>Unknown</td>\n",
       "      <td>0.0</td>\n",
       "      <td>147.0</td>\n",
       "      <td>UNK</td>\n",
       "      <td>11</td>\n",
       "      <td>2022</td>\n",
       "      <td>1.0</td>\n",
       "      <td>MIAMI</td>\n",
       "    </tr>\n",
       "    <tr>\n",
       "      <th>88788</th>\n",
       "      <td>Accident</td>\n",
       "      <td>2022-11-18</td>\n",
       "      <td>United States</td>\n",
       "      <td>Non-Fatal</td>\n",
       "      <td>Minor</td>\n",
       "      <td>ROBINSON HELICOPTER</td>\n",
       "      <td>No</td>\n",
       "      <td>1.0</td>\n",
       "      <td>unknown</td>\n",
       "      <td>Instructional</td>\n",
       "      <td>0.0</td>\n",
       "      <td>3.0</td>\n",
       "      <td>VMC</td>\n",
       "      <td>11</td>\n",
       "      <td>2022</td>\n",
       "      <td>0.0</td>\n",
       "      <td>LAS VEGAS</td>\n",
       "    </tr>\n",
       "    <tr>\n",
       "      <th>88789</th>\n",
       "      <td>Accident</td>\n",
       "      <td>2022-11-18</td>\n",
       "      <td>United States</td>\n",
       "      <td>Non-Fatal</td>\n",
       "      <td>Substantial</td>\n",
       "      <td>CESSNA</td>\n",
       "      <td>No</td>\n",
       "      <td>1.0</td>\n",
       "      <td>unknown</td>\n",
       "      <td>Instructional</td>\n",
       "      <td>0.0</td>\n",
       "      <td>3.0</td>\n",
       "      <td>VMC</td>\n",
       "      <td>11</td>\n",
       "      <td>2022</td>\n",
       "      <td>0.0</td>\n",
       "      <td>LAS VEGAS</td>\n",
       "    </tr>\n",
       "    <tr>\n",
       "      <th>88806</th>\n",
       "      <td>Accident</td>\n",
       "      <td>2022-11-22</td>\n",
       "      <td>United States</td>\n",
       "      <td>Non-Fatal</td>\n",
       "      <td>Substantial</td>\n",
       "      <td>SIKORSKY</td>\n",
       "      <td>No</td>\n",
       "      <td>2.0</td>\n",
       "      <td>unknown</td>\n",
       "      <td>Instructional</td>\n",
       "      <td>0.0</td>\n",
       "      <td>4.0</td>\n",
       "      <td>VMC</td>\n",
       "      <td>11</td>\n",
       "      <td>2022</td>\n",
       "      <td>0.0</td>\n",
       "      <td>SAN DIEGO</td>\n",
       "    </tr>\n",
       "    <tr>\n",
       "      <th>88807</th>\n",
       "      <td>Accident</td>\n",
       "      <td>2022-11-22</td>\n",
       "      <td>United States</td>\n",
       "      <td>Non-Fatal</td>\n",
       "      <td>Substantial</td>\n",
       "      <td>SIKORSKY</td>\n",
       "      <td>No</td>\n",
       "      <td>2.0</td>\n",
       "      <td>unknown</td>\n",
       "      <td>Public Aircraft - Federal</td>\n",
       "      <td>0.0</td>\n",
       "      <td>4.0</td>\n",
       "      <td>VMC</td>\n",
       "      <td>11</td>\n",
       "      <td>2022</td>\n",
       "      <td>0.0</td>\n",
       "      <td>SAN DIEGO</td>\n",
       "    </tr>\n",
       "  </tbody>\n",
       "</table>\n",
       "<p>3640 rows × 17 columns</p>\n",
       "</div>"
      ],
      "text/plain": [
       "      investigation_type event_date        country injury_severity  \\\n",
       "2               Accident 1982-01-01  United States       Non-Fatal   \n",
       "12              Accident 1982-01-02  United States       Non-Fatal   \n",
       "72              Incident 1982-01-12  United States           Fatal   \n",
       "98              Accident 1982-01-17  United States       Non-Fatal   \n",
       "122             Accident 1982-01-19  United States       Non-Fatal   \n",
       "...                  ...        ...            ...             ...   \n",
       "88765           Accident 2022-11-10  United States           Fatal   \n",
       "88788           Accident 2022-11-18  United States       Non-Fatal   \n",
       "88789           Accident 2022-11-18  United States       Non-Fatal   \n",
       "88806           Accident 2022-11-22  United States       Non-Fatal   \n",
       "88807           Accident 2022-11-22  United States       Non-Fatal   \n",
       "\n",
       "      aircraft_damage                 make amateur_built  number_of_engines  \\\n",
       "2         Substantial       NORTH AMERICAN            No                1.0   \n",
       "12        Substantial                SMITH            No                1.0   \n",
       "72            Unknown             LOCKHEED            No                3.0   \n",
       "98          Destroyed               CESSNA            No                1.0   \n",
       "122       Substantial             CANADAIR            No                4.0   \n",
       "...               ...                  ...           ...                ...   \n",
       "88765         Unknown               BOEING            No                2.0   \n",
       "88788           Minor  ROBINSON HELICOPTER            No                1.0   \n",
       "88789     Substantial               CESSNA            No                1.0   \n",
       "88806     Substantial             SIKORSKY            No                2.0   \n",
       "88807     Substantial             SIKORSKY            No                2.0   \n",
       "\n",
       "         engine_type          purpose_of_flight  total_fatal_injuries  \\\n",
       "2      reciprocating                   Personal                   0.0   \n",
       "12     reciprocating                   Personal                   0.0   \n",
       "72         turbo fan                    Unknown                   0.0   \n",
       "98     reciprocating              Instructional                   0.0   \n",
       "122       turbo prop                    Unknown                   0.0   \n",
       "...              ...                        ...                   ...   \n",
       "88765        unknown                    Unknown                   0.0   \n",
       "88788        unknown              Instructional                   0.0   \n",
       "88789        unknown              Instructional                   0.0   \n",
       "88806        unknown              Instructional                   0.0   \n",
       "88807        unknown  Public Aircraft - Federal                   0.0   \n",
       "\n",
       "       total_uninjured weather_condition  month  year  total_injured  \\\n",
       "2                  0.0               IMC      1  1982            3.0   \n",
       "12                 2.0               VMC      1  1982            0.0   \n",
       "72               149.0               UNK      1  1982            0.0   \n",
       "98                 1.0               VMC      1  1982            1.0   \n",
       "122                6.0               VMC      1  1982            0.0   \n",
       "...                ...               ...    ...   ...            ...   \n",
       "88765            147.0               UNK     11  2022            1.0   \n",
       "88788              3.0               VMC     11  2022            0.0   \n",
       "88789              3.0               VMC     11  2022            0.0   \n",
       "88806              4.0               VMC     11  2022            0.0   \n",
       "88807              4.0               VMC     11  2022            0.0   \n",
       "\n",
       "              state  \n",
       "2      JACKSONVILLE  \n",
       "12            MIAMI  \n",
       "72          CHICAGO  \n",
       "98        ANCHORAGE  \n",
       "122           MIAMI  \n",
       "...             ...  \n",
       "88765         MIAMI  \n",
       "88788     LAS VEGAS  \n",
       "88789     LAS VEGAS  \n",
       "88806     SAN DIEGO  \n",
       "88807     SAN DIEGO  \n",
       "\n",
       "[3640 rows x 17 columns]"
      ]
     },
     "execution_count": 43,
     "metadata": {},
     "output_type": "execute_result"
    }
   ],
   "source": [
    "top_15_states = df1[df1['state'].isin(top_15_states.index.tolist())]\n",
    "top_15_states "
   ]
  },
  {
   "cell_type": "code",
   "execution_count": 44,
   "metadata": {},
   "outputs": [
    {
     "data": {
      "image/png": "[encoded data removed]",
      "text/plain": [
       "<Figure size 864x432 with 1 Axes>"
      ]
     },
     "metadata": {
      "needs_background": "light"
     },
     "output_type": "display_data"
    }
   ],
   "source": [
    "plt.figure(figsize=(12, 6))\n",
    "sns.countplot(x = 'state', order = top_15_states['state'].value_counts().index, color = '#725CAD', data = top_15_states)\n",
    "plt.xticks(rotation=90)\n",
    "plt.ylabel('Counts of Accidents') \n",
    "plt.xlabel('State')\n",
    "plt.title('The number of recorded accidents')\n",
    "plt.show()"
   ]
  },
  {
   "cell_type": "code",
   "execution_count": 45,
   "metadata": {},
   "outputs": [
    {
     "data": {
      "image/png": "[encoded data removed]",
      "text/plain": [
       "<Figure size 864x432 with 1 Axes>"
      ]
     },
     "metadata": {
      "needs_background": "light"
     },
     "output_type": "display_data"
    }
   ],
   "source": [
    "plt.figure(figsize=(12, 6))\n",
    "sns.barplot(x='state', y = 'total_uninjured', data=top_15_states, estimator=sum)\n",
    "plt.title('Total  uninjured by state')\n",
    "plt.ylabel('Sum of Total  uninjured') \n",
    "plt.xlabel('State')\n",
    "plt.xticks(rotation=90)\n",
    "plt.show()"
   ]
  },
  {
   "cell_type": "code",
   "execution_count": 46,
   "metadata": {},
   "outputs": [
    {
     "data": {
      "image/png": "[encoded data removed]",
      "text/plain": [
       "<Figure size 864x432 with 1 Axes>"
      ]
     },
     "metadata": {
      "needs_background": "light"
     },
     "output_type": "display_data"
    }
   ],
   "source": [
    "plt.figure(figsize=(12, 6))\n",
    "sns.barplot(x='state', y = 'total_injured', data=top_15_states, estimator=sum)\n",
    "plt.title('Total injured by state')\n",
    "plt.ylabel('Sum of Total injured') \n",
    "plt.xlabel('State')\n",
    "plt.xticks(rotation=90)\n",
    "plt.show()"
   ]
  },
  {
   "cell_type": "code",
   "execution_count": 47,
   "metadata": {},
   "outputs": [
    {
     "data": {
      "image/png": "[encoded data removed]",
      "text/plain": [
       "<Figure size 864x432 with 1 Axes>"
      ]
     },
     "metadata": {
      "needs_background": "light"
     },
     "output_type": "display_data"
    }
   ],
   "source": [
    "plt.figure(figsize=(12, 6))\n",
    "sns.barplot(x='state', y = 'total_fatal_injuries', data=top_15_states, estimator=sum)\n",
    "plt.title('Total Fatal Injuries by state')\n",
    "plt.ylabel('Sum of Total Fatal Injuries') \n",
    "plt.xlabel('State')\n",
    "plt.xticks(rotation=90)\n",
    "plt.show()"
   ]
  },
  {
   "cell_type": "markdown",
   "metadata": {},
   "source": [
    "#### Accidents Frequency by month and year"
   ]
  },
  {
   "cell_type": "code",
   "execution_count": 48,
   "metadata": {},
   "outputs": [
    {
     "data": {
      "image/png": "[encoded data removed]",
      "text/plain": [
       "<Figure size 864x432 with 1 Axes>"
      ]
     },
     "metadata": {
      "needs_background": "light"
     },
     "output_type": "display_data"
    }
   ],
   "source": [
    "#Accidents frequency by year\n",
    "plt.figure(figsize=(12, 6))\n",
    "sns.countplot(x = 'year', order = df1['year'].value_counts().index, color = '#725CAD', data = df1)\n",
    "plt.xticks(rotation=90)\n",
    "plt.ylabel('Counts of Accidents') \n",
    "plt.xlabel('Year')\n",
    "plt.title('The number of recorded accidents')\n",
    "plt.show()"
   ]
  },
  {
   "cell_type": "code",
   "execution_count": 49,
   "metadata": {},
   "outputs": [
    {
     "data": {
      "image/png": "[encoded data removed]",
      "text/plain": [
       "<Figure size 864x432 with 1 Axes>"
      ]
     },
     "metadata": {
      "needs_background": "light"
     },
     "output_type": "display_data"
    }
   ],
   "source": [
    "#Accidents frequency by month\n",
    "plt.figure(figsize=(12, 6))\n",
    "sns.countplot(x = 'month', order = df1['month'].value_counts().index, color = '#725CAD', data = df1)\n",
    "plt.xticks(rotation=90)\n",
    "plt.ylabel('Counts of Accidents') \n",
    "plt.xlabel('Month')\n",
    "plt.title('The number of recorded accidents')\n",
    "plt.show()"
   ]
  },
  {
   "cell_type": "code",
   "execution_count": 50,
   "metadata": {},
   "outputs": [
    {
     "data": {
      "image/png": "[encoded data removed]",
      "text/plain": [
       "<Figure size 864x432 with 1 Axes>"
      ]
     },
     "metadata": {
      "needs_background": "light"
     },
     "output_type": "display_data"
    }
   ],
   "source": [
    "plt.figure(figsize=(12, 6))\n",
    "sns.barplot(x='year', y = 'total_fatal_injuries', data=top_15_states, estimator=sum)\n",
    "plt.title('Total Fatal Injuries by Year')\n",
    "plt.ylabel('Sum of Total Fatal Injuries') \n",
    "plt.xlabel('Year')\n",
    "plt.xticks(rotation=90)\n",
    "plt.show()"
   ]
  },
  {
   "cell_type": "code",
   "execution_count": 51,
   "metadata": {},
   "outputs": [
    {
     "data": {
      "image/png": "[encoded data removed]",
      "text/plain": [
       "<Figure size 864x432 with 1 Axes>"
      ]
     },
     "metadata": {
      "needs_background": "light"
     },
     "output_type": "display_data"
    }
   ],
   "source": [
    "plt.figure(figsize=(12, 6))\n",
    "sns.barplot(x='year', y = 'total_injured', data=df1, estimator=sum)\n",
    "plt.title('Total Injured by Year')\n",
    "plt.ylabel('Sum of Total Injured') \n",
    "plt.xlabel('Year')\n",
    "plt.xticks(rotation=90)\n",
    "plt.show()"
   ]
  },
  {
   "cell_type": "code",
   "execution_count": 52,
   "metadata": {},
   "outputs": [
    {
     "data": {
      "image/png": "[encoded data removed]",
      "text/plain": [
       "<Figure size 864x432 with 1 Axes>"
      ]
     },
     "metadata": {
      "needs_background": "light"
     },
     "output_type": "display_data"
    }
   ],
   "source": [
    "plt.figure(figsize=(12, 6))\n",
    "sns.barplot(x='year', y = 'total_uninjured', data=top_15_states, estimator=sum)\n",
    "plt.title('Total  Uninjured by Year')\n",
    "plt.ylabel('Sum of Total Uninjured') \n",
    "plt.xlabel('Year')\n",
    "plt.xticks(rotation=90)\n",
    "plt.show()"
   ]
  },
  {
   "cell_type": "code",
   "execution_count": 53,
   "metadata": {},
   "outputs": [
    {
     "data": {
      "image/png": "[encoded data removed]",
      "text/plain": [
       "<Figure size 864x432 with 1 Axes>"
      ]
     },
     "metadata": {
      "needs_background": "light"
     },
     "output_type": "display_data"
    }
   ],
   "source": [
    "plt.figure(figsize=(12, 6))\n",
    "sns.barplot(x='month', y = 'total_uninjured', data=top_15_states, estimator=sum)\n",
    "plt.title('Total  Uninjured by Month')\n",
    "plt.ylabel('Sum of Total Uninjured') \n",
    "plt.xlabel('Month')\n",
    "plt.xticks(rotation=90)\n",
    "plt.show()"
   ]
  },
  {
   "cell_type": "code",
   "execution_count": 54,
   "metadata": {},
   "outputs": [
    {
     "data": {
      "image/png": "[encoded data removed]",
      "text/plain": [
       "<Figure size 864x432 with 1 Axes>"
      ]
     },
     "metadata": {
      "needs_background": "light"
     },
     "output_type": "display_data"
    }
   ],
   "source": [
    "plt.figure(figsize=(12, 6))\n",
    "sns.barplot(x='month', y = 'total_injured', data=df1, estimator=sum)\n",
    "plt.title('Total Injured by Month')\n",
    "plt.ylabel('Sum of Total injured') \n",
    "plt.xlabel('Month')\n",
    "plt.xticks(rotation=90)\n",
    "plt.show()"
   ]
  },
  {
   "cell_type": "code",
   "execution_count": 55,
   "metadata": {},
   "outputs": [
    {
     "data": {
      "image/png": "[encoded data removed]",
      "text/plain": [
       "<Figure size 864x432 with 1 Axes>"
      ]
     },
     "metadata": {
      "needs_background": "light"
     },
     "output_type": "display_data"
    }
   ],
   "source": [
    "plt.figure(figsize=(12, 6))\n",
    "sns.barplot(x='month', y = 'total_fatal_injuries', data=top_15_states, estimator=sum)\n",
    "plt.title('Total Fatal Injuries by Month')\n",
    "plt.ylabel('Sum of Total Fatal Injuries') \n",
    "plt.xlabel('Month')\n",
    "plt.xticks(rotation=90)\n",
    "plt.show()"
   ]
  },
  {
   "cell_type": "markdown",
   "metadata": {},
   "source": [
    "#### Accident Frequency by Engine Type"
   ]
  },
  {
   "cell_type": "code",
   "execution_count": 56,
   "metadata": {},
   "outputs": [
    {
     "data": {
      "image/png": "[encoded data removed]",
      "text/plain": [
       "<Figure size 864x432 with 1 Axes>"
      ]
     },
     "metadata": {
      "needs_background": "light"
     },
     "output_type": "display_data"
    }
   ],
   "source": [
    "plt.figure(figsize=(12, 6))\n",
    "sns.countplot(x = 'engine_type', order = df1['engine_type'].value_counts().index, color = '#725CAD', data = df1)\n",
    "plt.xticks(rotation=90)\n",
    "plt.ylabel('Counts of Accidents') \n",
    "plt.xlabel('Engine Type')\n",
    "plt.title('The number of recorded accidents')\n",
    "plt.show()"
   ]
  },
  {
   "cell_type": "code",
   "execution_count": 57,
   "metadata": {},
   "outputs": [
    {
     "data": {
      "image/png": "[encoded data removed]",
      "text/plain": [
       "<Figure size 864x432 with 1 Axes>"
      ]
     },
     "metadata": {
      "needs_background": "light"
     },
     "output_type": "display_data"
    }
   ],
   "source": [
    "plt.figure(figsize=(12, 6))\n",
    "sns.barplot(x='engine_type', y = 'total_fatal_injuries', data=top_15_states, estimator=sum)\n",
    "plt.title('Total Fatal Injuries by Engine Type')\n",
    "plt.ylabel('Sum of Total Fatal Injuries') \n",
    "plt.xlabel('Engine Type')\n",
    "plt.xticks(rotation=90)\n",
    "plt.show()"
   ]
  },
  {
   "cell_type": "code",
   "execution_count": 58,
   "metadata": {},
   "outputs": [
    {
     "data": {
      "image/png": "[encoded data removed]",
      "text/plain": [
       "<Figure size 864x432 with 1 Axes>"
      ]
     },
     "metadata": {
      "needs_background": "light"
     },
     "output_type": "display_data"
    }
   ],
   "source": [
    "plt.figure(figsize=(12, 6))\n",
    "sns.barplot(x='engine_type', y = 'total_injured', data=df1, estimator=sum)\n",
    "plt.title('Total Injured by Engine Type')\n",
    "plt.ylabel('Sum of Total injured') \n",
    "plt.xlabel('Engine Type')\n",
    "plt.xticks(rotation=90)\n",
    "plt.show()"
   ]
  },
  {
   "cell_type": "code",
   "execution_count": 59,
   "metadata": {},
   "outputs": [
    {
     "data": {
      "image/png": "[encoded data removed]",
      "text/plain": [
       "<Figure size 864x432 with 1 Axes>"
      ]
     },
     "metadata": {
      "needs_background": "light"
     },
     "output_type": "display_data"
    }
   ],
   "source": [
    "plt.figure(figsize=(12, 6))\n",
    "sns.barplot(x='engine_type', y = 'total_uninjured', data=top_15_states, estimator=sum)\n",
    "plt.title('Total  Uninjured by Engine Type')\n",
    "plt.ylabel('Sum of Total Uninjured') \n",
    "plt.xlabel('Engine Type')\n",
    "plt.xticks(rotation=90)\n",
    "plt.show()"
   ]
  },
  {
   "cell_type": "markdown",
   "metadata": {},
   "source": [
    "#### Accidents by Number of Engines"
   ]
  },
  {
   "cell_type": "code",
   "execution_count": 60,
   "metadata": {},
   "outputs": [
    {
     "data": {
      "image/png": "[encoded data removed]",
      "text/plain": [
       "<Figure size 864x432 with 1 Axes>"
      ]
     },
     "metadata": {
      "needs_background": "light"
     },
     "output_type": "display_data"
    }
   ],
   "source": [
    "plt.figure(figsize=(12, 6))\n",
    "sns.countplot(x = 'number_of_engines', order = df1['number_of_engines'].value_counts().index, color = '#725CAD', data = df1)\n",
    "plt.xticks(rotation=90)\n",
    "plt.ylabel('Counts of Accidents') \n",
    "plt.xlabel('Number of Engines')\n",
    "plt.title('The number of recorded accidents')\n",
    "plt.show()"
   ]
  },
  {
   "cell_type": "code",
   "execution_count": 61,
   "metadata": {},
   "outputs": [
    {
     "data": {
      "image/png": "[encoded data removed]",
      "text/plain": [
       "<Figure size 864x432 with 1 Axes>"
      ]
     },
     "metadata": {
      "needs_background": "light"
     },
     "output_type": "display_data"
    }
   ],
   "source": [
    "plt.figure(figsize=(12, 6))\n",
    "sns.barplot(x='number_of_engines', y = 'total_fatal_injuries', data=top_15_states, estimator=sum)\n",
    "plt.title('Total Fatal Injuries by Number of Engines')\n",
    "plt.ylabel('Sum of Total Fatal Injuries') \n",
    "plt.xlabel('Number of Engines')\n",
    "plt.xticks(rotation=90)\n",
    "plt.show()"
   ]
  },
  {
   "cell_type": "code",
   "execution_count": 62,
   "metadata": {},
   "outputs": [
    {
     "data": {
      "image/png": "[encoded data removed]",
      "text/plain": [
       "<Figure size 864x432 with 1 Axes>"
      ]
     },
     "metadata": {
      "needs_background": "light"
     },
     "output_type": "display_data"
    }
   ],
   "source": [
    "plt.figure(figsize=(12, 6))\n",
    "sns.barplot(x='number_of_engines', y = 'total_injured', data=df1, estimator=sum)\n",
    "plt.title('Total Injured by Number of Engines')\n",
    "plt.ylabel('Sum of Total injured') \n",
    "plt.xlabel('Number of Engines')\n",
    "plt.xticks(rotation=90)\n",
    "plt.show()"
   ]
  },
  {
   "cell_type": "code",
   "execution_count": 63,
   "metadata": {},
   "outputs": [
    {
     "data": {
      "image/png": "[encoded data removed]",
      "text/plain": [
       "<Figure size 864x432 with 1 Axes>"
      ]
     },
     "metadata": {
      "needs_background": "light"
     },
     "output_type": "display_data"
    }
   ],
   "source": [
    "plt.figure(figsize=(12, 6))\n",
    "sns.barplot(x='number_of_engines', y = 'total_uninjured', data=top_15_states, estimator=sum)\n",
    "plt.title('Total  Uninjured by Number of Engines')\n",
    "plt.ylabel('Sum of Total Uninjured') \n",
    "plt.xlabel('Number of Engines')\n",
    "plt.xticks(rotation=90)\n",
    "plt.show()"
   ]
  },
  {
   "cell_type": "markdown",
   "metadata": {},
   "source": [
    "#### Accidents by Weather Condition"
   ]
  },
  {
   "cell_type": "code",
   "execution_count": 64,
   "metadata": {},
   "outputs": [
    {
     "data": {
      "image/png": "[encoded data removed]",
      "text/plain": [
       "<Figure size 864x432 with 1 Axes>"
      ]
     },
     "metadata": {
      "needs_background": "light"
     },
     "output_type": "display_data"
    }
   ],
   "source": [
    "plt.figure(figsize=(12, 6))\n",
    "sns.countplot(x = 'weather_condition', order = df1['weather_condition'].value_counts().index, color = '#725CAD', data = df1)\n",
    "plt.xticks(rotation=90)\n",
    "plt.ylabel('Counts of Accidents') \n",
    "plt.xlabel('Weather Condition')\n",
    "plt.title('The number of recorded accidents')\n",
    "plt.show()"
   ]
  },
  {
   "cell_type": "code",
   "execution_count": 65,
   "metadata": {},
   "outputs": [
    {
     "data": {
      "image/png": "[encoded data removed]",
      "text/plain": [
       "<Figure size 864x432 with 1 Axes>"
      ]
     },
     "metadata": {
      "needs_background": "light"
     },
     "output_type": "display_data"
    }
   ],
   "source": [
    "plt.figure(figsize=(12, 6))\n",
    "sns.barplot(x='weather_condition', y = 'total_fatal_injuries', data=top_15_states, estimator=sum)\n",
    "plt.title('Total Fatal Injuries by Weather Condition')\n",
    "plt.ylabel('Sum of Total Fatal Injuries') \n",
    "plt.xlabel('Weather Condition')\n",
    "plt.xticks(rotation=90)\n",
    "plt.show()"
   ]
  },
  {
   "cell_type": "code",
   "execution_count": 66,
   "metadata": {},
   "outputs": [
    {
     "data": {
      "image/png": "[encoded data removed]",
      "text/plain": [
       "<Figure size 864x432 with 1 Axes>"
      ]
     },
     "metadata": {
      "needs_background": "light"
     },
     "output_type": "display_data"
    }
   ],
   "source": [
    "plt.figure(figsize=(12, 6))\n",
    "sns.barplot(x='weather_condition', y = 'total_injured', data=df1, estimator=sum)\n",
    "plt.title('Total Injured by Weather Condition')\n",
    "plt.ylabel('Sum of Total injured') \n",
    "plt.xlabel('Weather Condition')\n",
    "plt.xticks(rotation=90)\n",
    "plt.show()"
   ]
  },
  {
   "cell_type": "code",
   "execution_count": 67,
   "metadata": {},
   "outputs": [
    {
     "data": {
      "image/png": "[encoded data removed]",
      "text/plain": [
       "<Figure size 864x432 with 1 Axes>"
      ]
     },
     "metadata": {
      "needs_background": "light"
     },
     "output_type": "display_data"
    }
   ],
   "source": [
    "plt.figure(figsize=(12, 6))\n",
    "sns.barplot(x='weather_condition', y = 'total_uninjured', data=top_15_states, estimator=sum)\n",
    "plt.title('Total  Uninjured by Weather Condition')\n",
    "plt.ylabel('Sum of Total Uninjured') \n",
    "plt.xlabel('Weather Condition')\n",
    "plt.xticks(rotation=90)\n",
    "plt.show()"
   ]
  },
  {
   "cell_type": "code",
   "execution_count": null,
   "metadata": {},
   "outputs": [],
   "source": []
  }
 ],
 "metadata": {
  "kernelspec": {
   "display_name": "Python (learn-env)",
   "language": "python",
   "name": "learn-env"
  },
  "language_info": {
   "codemirror_mode": {
    "name": "ipython",
    "version": 3
   },
   "file_extension": ".py",
   "mimetype": "text/x-python",
   "name": "python",
   "nbconvert_exporter": "python",
   "pygments_lexer": "ipython3",
   "version": "3.8.5"
  }
 },
 "nbformat": 4,
 "nbformat_minor": 4
}
